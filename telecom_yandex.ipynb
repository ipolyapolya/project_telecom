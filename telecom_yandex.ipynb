{
 "cells": [
  {
   "cell_type": "markdown",
   "id": "bc9ebf9d",
   "metadata": {
    "toc": true
   },
   "source": [
    "<h1>Table of Contents<span class=\"tocSkip\"></span></h1>\n",
    "<div class=\"toc\"><ul class=\"toc-item\"><li><span><a href=\"#Общие-положения\" data-toc-modified-id=\"Общие-положения-1\"><span class=\"toc-item-num\">1&nbsp;&nbsp;</span>Общие положения</a></span></li><li><span><a href=\"#Описание-данных\" data-toc-modified-id=\"Описание-данных-2\"><span class=\"toc-item-num\">2&nbsp;&nbsp;</span>Описание данных</a></span></li><li><span><a href=\"#Обзор-данных\" data-toc-modified-id=\"Обзор-данных-3\"><span class=\"toc-item-num\">3&nbsp;&nbsp;</span>Обзор данных</a></span><ul class=\"toc-item\"><li><span><a href=\"#Вывод\" data-toc-modified-id=\"Вывод-3.1\"><span class=\"toc-item-num\">3.1&nbsp;&nbsp;</span>Вывод</a></span></li></ul></li><li><span><a href=\"#Предобработка-данных\" data-toc-modified-id=\"Предобработка-данных-4\"><span class=\"toc-item-num\">4&nbsp;&nbsp;</span>Предобработка данных</a></span><ul class=\"toc-item\"><li><span><a href=\"#Звонки\" data-toc-modified-id=\"Звонки-4.1\"><span class=\"toc-item-num\">4.1&nbsp;&nbsp;</span>Звонки</a></span></li><li><span><a href=\"#Сообщения\" data-toc-modified-id=\"Сообщения-4.2\"><span class=\"toc-item-num\">4.2&nbsp;&nbsp;</span>Сообщения</a></span></li><li><span><a href=\"#Интернет\" data-toc-modified-id=\"Интернет-4.3\"><span class=\"toc-item-num\">4.3&nbsp;&nbsp;</span>Интернет</a></span></li><li><span><a href=\"#Вывод\" data-toc-modified-id=\"Вывод-4.4\"><span class=\"toc-item-num\">4.4&nbsp;&nbsp;</span>Вывод</a></span></li></ul></li><li><span><a href=\"#Расчеты-агрегированных-данных\" data-toc-modified-id=\"Расчеты-агрегированных-данных-5\"><span class=\"toc-item-num\">5&nbsp;&nbsp;</span>Расчеты агрегированных данных</a></span><ul class=\"toc-item\"><li><span><a href=\"#Количество-и-продолжительность-звонков\" data-toc-modified-id=\"Количество-и-продолжительность-звонков-5.1\"><span class=\"toc-item-num\">5.1&nbsp;&nbsp;</span>Количество и продолжительность звонков</a></span></li><li><span><a href=\"#Количество-сообщений\" data-toc-modified-id=\"Количество-сообщений-5.2\"><span class=\"toc-item-num\">5.2&nbsp;&nbsp;</span>Количество сообщений</a></span></li><li><span><a href=\"#Объем-интернет-трафика\" data-toc-modified-id=\"Объем-интернет-трафика-5.3\"><span class=\"toc-item-num\">5.3&nbsp;&nbsp;</span>Объем интернет-трафика</a></span></li></ul></li><li><span><a href=\"#Объединение-данных\" data-toc-modified-id=\"Объединение-данных-6\"><span class=\"toc-item-num\">6&nbsp;&nbsp;</span>Объединение данных</a></span></li><li><span><a href=\"#Помесячная-выручка\" data-toc-modified-id=\"Помесячная-выручка-7\"><span class=\"toc-item-num\">7&nbsp;&nbsp;</span>Помесячная выручка</a></span></li><li><span><a href=\"#Анализ-данных\" data-toc-modified-id=\"Анализ-данных-8\"><span class=\"toc-item-num\">8&nbsp;&nbsp;</span>Анализ данных</a></span><ul class=\"toc-item\"><li><span><a href=\"#Выводы\" data-toc-modified-id=\"Выводы-8.1\"><span class=\"toc-item-num\">8.1&nbsp;&nbsp;</span>Выводы</a></span></li></ul></li><li><span><a href=\"#Проверка-гипотез\" data-toc-modified-id=\"Проверка-гипотез-9\"><span class=\"toc-item-num\">9&nbsp;&nbsp;</span>Проверка гипотез</a></span><ul class=\"toc-item\"><li><span><a href=\"#Средняя-выручка-пользователей-тарифов-«Ультра»-и-«Смарт»-различаются\" data-toc-modified-id=\"Средняя-выручка-пользователей-тарифов-«Ультра»-и-«Смарт»-различаются-9.1\"><span class=\"toc-item-num\">9.1&nbsp;&nbsp;</span>Средняя выручка пользователей тарифов «Ультра» и «Смарт» различаются</a></span></li><li><span><a href=\"#Cредняя-выручка-пользователей-из-Москвы-отличается-от-выручки-пользователей-из-других-регионов.\" data-toc-modified-id=\"Cредняя-выручка-пользователей-из-Москвы-отличается-от-выручки-пользователей-из-других-регионов.-9.2\"><span class=\"toc-item-num\">9.2&nbsp;&nbsp;</span>Cредняя выручка пользователей из Москвы отличается от выручки пользователей из других регионов.</a></span></li></ul></li><li><span><a href=\"#Общий-вывод\" data-toc-modified-id=\"Общий-вывод-10\"><span class=\"toc-item-num\">10&nbsp;&nbsp;</span>Общий вывод</a></span></li></ul></div>"
   ]
  },
  {
   "cell_type": "markdown",
   "id": "56c22a68",
   "metadata": {},
   "source": [
    "## Общие положения"
   ]
  },
  {
   "cell_type": "markdown",
   "id": "03ccd2d2",
   "metadata": {},
   "source": [
    "**Описание:** «Мегалайн» — федеральный оператор сотовой связи. Клиентам предлагают два тарифных плана: «Смарт» и «Ультра». Исследование необходимо для того, чтобы скорректировать рекламный бюджет, так как коммерческий департамент хочет понять, какой тариф приносит больше денег. \n",
    "\n",
    "**Выборка:** исследование проводится по выборке клиентов (500 пользователей), в данных представлена информация, кто они, откуда, каким тарифом пользуются, сколько звонков и сообщений каждый отправил за 2018 год. Задача состоит в том, чтобы проанализировать поведение клиентов для достижения конечной цели.\n",
    "\n",
    "**Тариф «Смарт»**\n",
    "\n",
    "+ Ежемесячная плата: 550 рублей\n",
    "+ Включено 500 минут разговора, 50 сообщений и 15 Гб интернет-трафика\n",
    "+ Стоимость услуг сверх тарифного пакета: 1) минута разговора: 3 рубля, 2) сообщение: 3 рубля, 3) 1 Гб интернет-трафика: 200 рублей\n",
    "\n",
    "**Тариф «Ультра»**\n",
    "+ Ежемесячная плата: 1950 рублей\n",
    "+ Включено 3000 минут разговора, 1000 сообщений и 30 Гб интернет-трафика\n",
    "+ Стоимость услуг сверх тарифного пакета: 1) минута разговора: 1 рубль, 2) сообщение: 1 рубль, 3) 1 Гб интернет-трафика: 150 рублей\n",
    "\n",
    "**Цель:** определить наиболее прибыльный тариф (Смарт или Ультра)\n",
    "\n",
    "\n",
    "**Гипотезы:**\n",
    "1. средняя выручка пользователей тарифов «Ультра» и «Смарт» различаются\n",
    "2. средняя выручка пользователей из Москвы отличается от выручки пользователей из других регионов\n",
    "\n",
    "\n",
    "**Этапы:**\n",
    "1. обзор данных\n",
    "2. предобработка данных\n",
    "3. анализ поведения клиентов\n",
    "4. проверка гипотез\n",
    "5. вывод"
   ]
  },
  {
   "cell_type": "markdown",
   "id": "9141d0f0",
   "metadata": {},
   "source": [
    "## Описание данных"
   ]
  },
  {
   "cell_type": "markdown",
   "id": "71819604",
   "metadata": {},
   "source": [
    "**Таблица users (информация о пользователях):**\n",
    "+ user_id — уникальный идентификатор пользователя\n",
    "+ first_name — имя пользователя\n",
    "+ last_name — фамилия пользователя\n",
    "+ age — возраст пользователя (годы)\n",
    "+ reg_date — дата подключения тарифа (день, месяц, год)\n",
    "+ churn_date — дата прекращения пользования тарифом (если значение пропущено, то тариф ещё действовал на момент выгрузки данных)\n",
    "+ city — город проживания пользователя\n",
    "+ tariff — название тарифного плана\n",
    "\n",
    "**Таблица calls (информация о звонках):**\n",
    "+ id — уникальный номер звонка\n",
    "+ call_date — дата звонка\n",
    "+ duration — длительность звонка в минутах\n",
    "+ user_id — идентификатор пользователя, сделавшего звонок\n",
    "\n",
    "**Таблица messages (информация о сообщениях):**\n",
    "+ id — уникальный номер сообщения\n",
    "+ message_date — дата сообщения\n",
    "+ user_id — идентификатор пользователя, отправившего сообщение\n",
    "\n",
    "**Таблица internet (информация об интернет-сессиях):**\n",
    "+ id — уникальный номер сессии\n",
    "+ mb_used — объём потраченного за сессию интернет-трафика (в мегабайтах)\n",
    "+ session_date — дата интернет-сессии\n",
    "+ user_id — идентификатор пользователя\n",
    "\n",
    "**Таблица tariffs (информация о тарифах):**\n",
    "+ tariff_name — название тарифа\n",
    "+ rub_monthly_fee — ежемесячная абонентская плата в рублях\n",
    "+ minutes_included — количество минут разговора в месяц, включённых в абонентскую плату\n",
    "+ messages_included — количество сообщений в месяц, включённых в абонентскую плату\n",
    "+ mb_per_month_included — объём интернет-трафика, включённого в абонентскую плату (в мегабайтах)\n",
    "+ rub_per_minute — стоимость минуты разговора сверх тарифного пакета (например, если в тарифе 100 минут разговора в месяц, то со 101 минуты будет взиматься плата)\n",
    "+ rub_per_message — стоимость отправки сообщения сверх тарифного пакета\n",
    "+ rub_per_gb — стоимость дополнительного гигабайта интернет-трафика сверх тарифного пакета (1 гигабайт = 1024 мегабайта)"
   ]
  },
  {
   "cell_type": "markdown",
   "id": "303d53eb",
   "metadata": {},
   "source": [
    "## Обзор данных"
   ]
  },
  {
   "cell_type": "markdown",
   "id": "eeabc2e9",
   "metadata": {},
   "source": [
    "Данные представлены в 5 различных таблицах. Для начала, откроем все таблицы отдельно."
   ]
  },
  {
   "cell_type": "code",
   "execution_count": 1,
   "id": "505b324f",
   "metadata": {},
   "outputs": [],
   "source": [
    "#загружаем необходимые библиотеки\n",
    "import pandas as pd\n",
    "import matplotlib.pyplot as plt\n",
    "import numpy as np    \n",
    "from scipy import stats as st\n",
    "import seaborn as sns\n",
    "\n",
    "%matplotlib inline"
   ]
  },
  {
   "cell_type": "code",
   "execution_count": 2,
   "id": "fd9c7081",
   "metadata": {},
   "outputs": [
    {
     "data": {
      "text/html": [
       "<div>\n",
       "<style scoped>\n",
       "    .dataframe tbody tr th:only-of-type {\n",
       "        vertical-align: middle;\n",
       "    }\n",
       "\n",
       "    .dataframe tbody tr th {\n",
       "        vertical-align: top;\n",
       "    }\n",
       "\n",
       "    .dataframe thead th {\n",
       "        text-align: right;\n",
       "    }\n",
       "</style>\n",
       "<table border=\"1\" class=\"dataframe\">\n",
       "  <thead>\n",
       "    <tr style=\"text-align: right;\">\n",
       "      <th></th>\n",
       "      <th>id</th>\n",
       "      <th>call_date</th>\n",
       "      <th>duration</th>\n",
       "      <th>user_id</th>\n",
       "    </tr>\n",
       "  </thead>\n",
       "  <tbody>\n",
       "    <tr>\n",
       "      <th>0</th>\n",
       "      <td>1000_0</td>\n",
       "      <td>2018-07-25</td>\n",
       "      <td>0.00</td>\n",
       "      <td>1000</td>\n",
       "    </tr>\n",
       "    <tr>\n",
       "      <th>1</th>\n",
       "      <td>1000_1</td>\n",
       "      <td>2018-08-17</td>\n",
       "      <td>0.00</td>\n",
       "      <td>1000</td>\n",
       "    </tr>\n",
       "    <tr>\n",
       "      <th>2</th>\n",
       "      <td>1000_2</td>\n",
       "      <td>2018-06-11</td>\n",
       "      <td>2.85</td>\n",
       "      <td>1000</td>\n",
       "    </tr>\n",
       "  </tbody>\n",
       "</table>\n",
       "</div>"
      ],
      "text/plain": [
       "       id   call_date  duration  user_id\n",
       "0  1000_0  2018-07-25      0.00     1000\n",
       "1  1000_1  2018-08-17      0.00     1000\n",
       "2  1000_2  2018-06-11      2.85     1000"
      ]
     },
     "execution_count": 2,
     "metadata": {},
     "output_type": "execute_result"
    }
   ],
   "source": [
    "#открываем таблицы и смотрим основную ифнормацию\n",
    "try:\n",
    "    data_calls = pd.read_csv('/datasets/calls.csv')\n",
    "except:\n",
    "    data_calls = pd.read_csv('calls.csv')\n",
    "    \n",
    "data_calls.head(3)"
   ]
  },
  {
   "cell_type": "code",
   "execution_count": 3,
   "id": "9a20fea1",
   "metadata": {},
   "outputs": [
    {
     "name": "stdout",
     "output_type": "stream",
     "text": [
      "<class 'pandas.core.frame.DataFrame'>\n",
      "RangeIndex: 202607 entries, 0 to 202606\n",
      "Data columns (total 4 columns):\n",
      " #   Column     Non-Null Count   Dtype  \n",
      "---  ------     --------------   -----  \n",
      " 0   id         202607 non-null  object \n",
      " 1   call_date  202607 non-null  object \n",
      " 2   duration   202607 non-null  float64\n",
      " 3   user_id    202607 non-null  int64  \n",
      "dtypes: float64(1), int64(1), object(2)\n",
      "memory usage: 6.2+ MB\n"
     ]
    }
   ],
   "source": [
    "data_calls.info()"
   ]
  },
  {
   "cell_type": "code",
   "execution_count": 4,
   "id": "72e6fb7d",
   "metadata": {
    "scrolled": true
   },
   "outputs": [
    {
     "data": {
      "text/html": [
       "<div>\n",
       "<style scoped>\n",
       "    .dataframe tbody tr th:only-of-type {\n",
       "        vertical-align: middle;\n",
       "    }\n",
       "\n",
       "    .dataframe tbody tr th {\n",
       "        vertical-align: top;\n",
       "    }\n",
       "\n",
       "    .dataframe thead th {\n",
       "        text-align: right;\n",
       "    }\n",
       "</style>\n",
       "<table border=\"1\" class=\"dataframe\">\n",
       "  <thead>\n",
       "    <tr style=\"text-align: right;\">\n",
       "      <th></th>\n",
       "      <th>id</th>\n",
       "      <th>mb_used</th>\n",
       "      <th>session_date</th>\n",
       "      <th>user_id</th>\n",
       "    </tr>\n",
       "  </thead>\n",
       "  <tbody>\n",
       "    <tr>\n",
       "      <th>0</th>\n",
       "      <td>1000_0</td>\n",
       "      <td>112.95</td>\n",
       "      <td>2018-11-25</td>\n",
       "      <td>1000</td>\n",
       "    </tr>\n",
       "    <tr>\n",
       "      <th>1</th>\n",
       "      <td>1000_1</td>\n",
       "      <td>1052.81</td>\n",
       "      <td>2018-09-07</td>\n",
       "      <td>1000</td>\n",
       "    </tr>\n",
       "    <tr>\n",
       "      <th>2</th>\n",
       "      <td>1000_2</td>\n",
       "      <td>1197.26</td>\n",
       "      <td>2018-06-25</td>\n",
       "      <td>1000</td>\n",
       "    </tr>\n",
       "  </tbody>\n",
       "</table>\n",
       "</div>"
      ],
      "text/plain": [
       "       id  mb_used session_date  user_id\n",
       "0  1000_0   112.95   2018-11-25     1000\n",
       "1  1000_1  1052.81   2018-09-07     1000\n",
       "2  1000_2  1197.26   2018-06-25     1000"
      ]
     },
     "execution_count": 4,
     "metadata": {},
     "output_type": "execute_result"
    }
   ],
   "source": [
    "try:\n",
    "    data_internet = pd.read_csv('/datasets/internet.csv', index_col=0)\n",
    "except:\n",
    "    data_internet = pd.read_csv('internet.csv')\n",
    "\n",
    "data_internet.head(3)"
   ]
  },
  {
   "cell_type": "code",
   "execution_count": 5,
   "id": "bb7af8fa",
   "metadata": {},
   "outputs": [
    {
     "name": "stdout",
     "output_type": "stream",
     "text": [
      "<class 'pandas.core.frame.DataFrame'>\n",
      "Int64Index: 149396 entries, 0 to 149395\n",
      "Data columns (total 4 columns):\n",
      " #   Column        Non-Null Count   Dtype  \n",
      "---  ------        --------------   -----  \n",
      " 0   id            149396 non-null  object \n",
      " 1   mb_used       149396 non-null  float64\n",
      " 2   session_date  149396 non-null  object \n",
      " 3   user_id       149396 non-null  int64  \n",
      "dtypes: float64(1), int64(1), object(2)\n",
      "memory usage: 5.7+ MB\n"
     ]
    }
   ],
   "source": [
    "data_internet.info()"
   ]
  },
  {
   "cell_type": "code",
   "execution_count": 6,
   "id": "909890f6",
   "metadata": {
    "scrolled": true
   },
   "outputs": [
    {
     "data": {
      "text/html": [
       "<div>\n",
       "<style scoped>\n",
       "    .dataframe tbody tr th:only-of-type {\n",
       "        vertical-align: middle;\n",
       "    }\n",
       "\n",
       "    .dataframe tbody tr th {\n",
       "        vertical-align: top;\n",
       "    }\n",
       "\n",
       "    .dataframe thead th {\n",
       "        text-align: right;\n",
       "    }\n",
       "</style>\n",
       "<table border=\"1\" class=\"dataframe\">\n",
       "  <thead>\n",
       "    <tr style=\"text-align: right;\">\n",
       "      <th></th>\n",
       "      <th>id</th>\n",
       "      <th>message_date</th>\n",
       "      <th>user_id</th>\n",
       "    </tr>\n",
       "  </thead>\n",
       "  <tbody>\n",
       "    <tr>\n",
       "      <th>0</th>\n",
       "      <td>1000_0</td>\n",
       "      <td>2018-06-27</td>\n",
       "      <td>1000</td>\n",
       "    </tr>\n",
       "    <tr>\n",
       "      <th>1</th>\n",
       "      <td>1000_1</td>\n",
       "      <td>2018-10-08</td>\n",
       "      <td>1000</td>\n",
       "    </tr>\n",
       "    <tr>\n",
       "      <th>2</th>\n",
       "      <td>1000_2</td>\n",
       "      <td>2018-08-04</td>\n",
       "      <td>1000</td>\n",
       "    </tr>\n",
       "  </tbody>\n",
       "</table>\n",
       "</div>"
      ],
      "text/plain": [
       "       id message_date  user_id\n",
       "0  1000_0   2018-06-27     1000\n",
       "1  1000_1   2018-10-08     1000\n",
       "2  1000_2   2018-08-04     1000"
      ]
     },
     "execution_count": 6,
     "metadata": {},
     "output_type": "execute_result"
    }
   ],
   "source": [
    "try:\n",
    "    data_messages = pd.read_csv('/datasets/messages.csv')\n",
    "except:\n",
    "    data_messages = pd.read_csv('messages.csv')\n",
    "\n",
    "data_messages.head(3)"
   ]
  },
  {
   "cell_type": "code",
   "execution_count": 7,
   "id": "a1a900fd",
   "metadata": {},
   "outputs": [
    {
     "name": "stdout",
     "output_type": "stream",
     "text": [
      "<class 'pandas.core.frame.DataFrame'>\n",
      "RangeIndex: 123036 entries, 0 to 123035\n",
      "Data columns (total 3 columns):\n",
      " #   Column        Non-Null Count   Dtype \n",
      "---  ------        --------------   ----- \n",
      " 0   id            123036 non-null  object\n",
      " 1   message_date  123036 non-null  object\n",
      " 2   user_id       123036 non-null  int64 \n",
      "dtypes: int64(1), object(2)\n",
      "memory usage: 2.8+ MB\n"
     ]
    }
   ],
   "source": [
    "data_messages.info()"
   ]
  },
  {
   "cell_type": "code",
   "execution_count": 8,
   "id": "c37bb59d",
   "metadata": {
    "scrolled": true
   },
   "outputs": [
    {
     "data": {
      "text/html": [
       "<div>\n",
       "<style scoped>\n",
       "    .dataframe tbody tr th:only-of-type {\n",
       "        vertical-align: middle;\n",
       "    }\n",
       "\n",
       "    .dataframe tbody tr th {\n",
       "        vertical-align: top;\n",
       "    }\n",
       "\n",
       "    .dataframe thead th {\n",
       "        text-align: right;\n",
       "    }\n",
       "</style>\n",
       "<table border=\"1\" class=\"dataframe\">\n",
       "  <thead>\n",
       "    <tr style=\"text-align: right;\">\n",
       "      <th></th>\n",
       "      <th>messages_included</th>\n",
       "      <th>mb_per_month_included</th>\n",
       "      <th>minutes_included</th>\n",
       "      <th>rub_monthly_fee</th>\n",
       "      <th>rub_per_gb</th>\n",
       "      <th>rub_per_message</th>\n",
       "      <th>rub_per_minute</th>\n",
       "      <th>tariff_name</th>\n",
       "    </tr>\n",
       "  </thead>\n",
       "  <tbody>\n",
       "    <tr>\n",
       "      <th>0</th>\n",
       "      <td>50</td>\n",
       "      <td>15360</td>\n",
       "      <td>500</td>\n",
       "      <td>550</td>\n",
       "      <td>200</td>\n",
       "      <td>3</td>\n",
       "      <td>3</td>\n",
       "      <td>smart</td>\n",
       "    </tr>\n",
       "    <tr>\n",
       "      <th>1</th>\n",
       "      <td>1000</td>\n",
       "      <td>30720</td>\n",
       "      <td>3000</td>\n",
       "      <td>1950</td>\n",
       "      <td>150</td>\n",
       "      <td>1</td>\n",
       "      <td>1</td>\n",
       "      <td>ultra</td>\n",
       "    </tr>\n",
       "  </tbody>\n",
       "</table>\n",
       "</div>"
      ],
      "text/plain": [
       "   messages_included  mb_per_month_included  minutes_included  \\\n",
       "0                 50                  15360               500   \n",
       "1               1000                  30720              3000   \n",
       "\n",
       "   rub_monthly_fee  rub_per_gb  rub_per_message  rub_per_minute tariff_name  \n",
       "0              550         200                3               3       smart  \n",
       "1             1950         150                1               1       ultra  "
      ]
     },
     "execution_count": 8,
     "metadata": {},
     "output_type": "execute_result"
    }
   ],
   "source": [
    "try:\n",
    "    data_tariffs = pd.read_csv('/datasets/tariffs.csv')\n",
    "except:\n",
    "    data_tariffs = pd.read_csv('tariffs.csv')\n",
    "\n",
    "data_tariffs.head()"
   ]
  },
  {
   "cell_type": "code",
   "execution_count": 9,
   "id": "689faf11",
   "metadata": {
    "scrolled": true
   },
   "outputs": [
    {
     "data": {
      "text/html": [
       "<div>\n",
       "<style scoped>\n",
       "    .dataframe tbody tr th:only-of-type {\n",
       "        vertical-align: middle;\n",
       "    }\n",
       "\n",
       "    .dataframe tbody tr th {\n",
       "        vertical-align: top;\n",
       "    }\n",
       "\n",
       "    .dataframe thead th {\n",
       "        text-align: right;\n",
       "    }\n",
       "</style>\n",
       "<table border=\"1\" class=\"dataframe\">\n",
       "  <thead>\n",
       "    <tr style=\"text-align: right;\">\n",
       "      <th></th>\n",
       "      <th>user_id</th>\n",
       "      <th>age</th>\n",
       "      <th>churn_date</th>\n",
       "      <th>city</th>\n",
       "      <th>first_name</th>\n",
       "      <th>last_name</th>\n",
       "      <th>reg_date</th>\n",
       "      <th>tariff</th>\n",
       "    </tr>\n",
       "  </thead>\n",
       "  <tbody>\n",
       "    <tr>\n",
       "      <th>0</th>\n",
       "      <td>1000</td>\n",
       "      <td>52</td>\n",
       "      <td>NaN</td>\n",
       "      <td>Краснодар</td>\n",
       "      <td>Рафаил</td>\n",
       "      <td>Верещагин</td>\n",
       "      <td>2018-05-25</td>\n",
       "      <td>ultra</td>\n",
       "    </tr>\n",
       "    <tr>\n",
       "      <th>1</th>\n",
       "      <td>1001</td>\n",
       "      <td>41</td>\n",
       "      <td>NaN</td>\n",
       "      <td>Москва</td>\n",
       "      <td>Иван</td>\n",
       "      <td>Ежов</td>\n",
       "      <td>2018-11-01</td>\n",
       "      <td>smart</td>\n",
       "    </tr>\n",
       "    <tr>\n",
       "      <th>2</th>\n",
       "      <td>1002</td>\n",
       "      <td>59</td>\n",
       "      <td>NaN</td>\n",
       "      <td>Стерлитамак</td>\n",
       "      <td>Евгений</td>\n",
       "      <td>Абрамович</td>\n",
       "      <td>2018-06-17</td>\n",
       "      <td>smart</td>\n",
       "    </tr>\n",
       "  </tbody>\n",
       "</table>\n",
       "</div>"
      ],
      "text/plain": [
       "   user_id  age churn_date         city first_name  last_name    reg_date  \\\n",
       "0     1000   52        NaN    Краснодар     Рафаил  Верещагин  2018-05-25   \n",
       "1     1001   41        NaN       Москва       Иван       Ежов  2018-11-01   \n",
       "2     1002   59        NaN  Стерлитамак    Евгений  Абрамович  2018-06-17   \n",
       "\n",
       "  tariff  \n",
       "0  ultra  \n",
       "1  smart  \n",
       "2  smart  "
      ]
     },
     "execution_count": 9,
     "metadata": {},
     "output_type": "execute_result"
    }
   ],
   "source": [
    "try:\n",
    "    data_users = pd.read_csv('/datasets/users.csv')\n",
    "except:\n",
    "    data_users = pd.read_csv('users.csv')\n",
    "\n",
    "data_users.head(3)"
   ]
  },
  {
   "cell_type": "code",
   "execution_count": 10,
   "id": "ad758bfc",
   "metadata": {
    "scrolled": true
   },
   "outputs": [
    {
     "name": "stdout",
     "output_type": "stream",
     "text": [
      "<class 'pandas.core.frame.DataFrame'>\n",
      "RangeIndex: 500 entries, 0 to 499\n",
      "Data columns (total 8 columns):\n",
      " #   Column      Non-Null Count  Dtype \n",
      "---  ------      --------------  ----- \n",
      " 0   user_id     500 non-null    int64 \n",
      " 1   age         500 non-null    int64 \n",
      " 2   churn_date  38 non-null     object\n",
      " 3   city        500 non-null    object\n",
      " 4   first_name  500 non-null    object\n",
      " 5   last_name   500 non-null    object\n",
      " 6   reg_date    500 non-null    object\n",
      " 7   tariff      500 non-null    object\n",
      "dtypes: int64(2), object(6)\n",
      "memory usage: 31.4+ KB\n"
     ]
    }
   ],
   "source": [
    "data_users.info()"
   ]
  },
  {
   "cell_type": "markdown",
   "id": "b429a89f",
   "metadata": {},
   "source": [
    "### Вывод"
   ]
  },
  {
   "cell_type": "markdown",
   "id": "d287ece8",
   "metadata": {},
   "source": [
    "+ **пропуски:** присутствуют только в таблице с информацией о пользователях (в колонке churn_date - дата прекращения пользования тарифом). Однако эти пропущенные значения говорят о том, что тарифом до сих пор пользуются. Поскольку эта колонка не особо важна в данном исследовании, пропуски можно оставить, как есть.\n",
    "+ все **даты** в таблицах записаны в формате \"object\", соответственно, необходимо будет привести их к формату дат для более удобного анализа в будущем\n",
    "+ согласно тарифам, необходимо будет **округлить длительность звонков до минут и мегабайты интернета до гигабайтов**"
   ]
  },
  {
   "cell_type": "markdown",
   "id": "90b1a4ed",
   "metadata": {},
   "source": [
    "## Предобработка данных"
   ]
  },
  {
   "cell_type": "markdown",
   "id": "4c1df2b0",
   "metadata": {},
   "source": [
    "### Звонки"
   ]
  },
  {
   "cell_type": "code",
   "execution_count": 11,
   "id": "d67a5fdc",
   "metadata": {},
   "outputs": [],
   "source": [
    "# Перевод даты из объектного типа в тип datetime64\n",
    "data_calls['call_date'] = pd.to_datetime(data_calls['call_date'], format='%Y-%m-%d')\n",
    "\n",
    "# Добавляем столбец с категорией месяца: Январь - 1, Февраль - 2, ..., Декабрь - 12\n",
    "data_calls['month_num'] = pd.DatetimeIndex(data_calls['call_date']).month\n",
    "\n",
    "# Добавляем столбец с началом календарного месяца\n",
    "data_calls['month'] = data_calls['call_date'].astype('datetime64[M]')\n",
    "\n",
    "# Округляем длительность звонков и меняем тип данных на целочисленный\n",
    "data_calls['duration'] = np.ceil(data_calls['duration']).astype('int')"
   ]
  },
  {
   "cell_type": "code",
   "execution_count": 12,
   "id": "217285f5",
   "metadata": {},
   "outputs": [
    {
     "data": {
      "text/plain": [
       "0"
      ]
     },
     "execution_count": 12,
     "metadata": {},
     "output_type": "execute_result"
    }
   ],
   "source": [
    "# проверяем на наличие дубликатов\n",
    "data_calls.duplicated().sum()"
   ]
  },
  {
   "cell_type": "code",
   "execution_count": 13,
   "id": "b79e1067",
   "metadata": {
    "scrolled": true
   },
   "outputs": [
    {
     "data": {
      "text/html": [
       "<div>\n",
       "<style scoped>\n",
       "    .dataframe tbody tr th:only-of-type {\n",
       "        vertical-align: middle;\n",
       "    }\n",
       "\n",
       "    .dataframe tbody tr th {\n",
       "        vertical-align: top;\n",
       "    }\n",
       "\n",
       "    .dataframe thead th {\n",
       "        text-align: right;\n",
       "    }\n",
       "</style>\n",
       "<table border=\"1\" class=\"dataframe\">\n",
       "  <thead>\n",
       "    <tr style=\"text-align: right;\">\n",
       "      <th></th>\n",
       "      <th>id</th>\n",
       "      <th>call_date</th>\n",
       "      <th>duration</th>\n",
       "      <th>user_id</th>\n",
       "      <th>month_num</th>\n",
       "      <th>month</th>\n",
       "    </tr>\n",
       "  </thead>\n",
       "  <tbody>\n",
       "    <tr>\n",
       "      <th>0</th>\n",
       "      <td>1000_0</td>\n",
       "      <td>2018-07-25</td>\n",
       "      <td>0</td>\n",
       "      <td>1000</td>\n",
       "      <td>7</td>\n",
       "      <td>2018-07-01</td>\n",
       "    </tr>\n",
       "    <tr>\n",
       "      <th>1</th>\n",
       "      <td>1000_1</td>\n",
       "      <td>2018-08-17</td>\n",
       "      <td>0</td>\n",
       "      <td>1000</td>\n",
       "      <td>8</td>\n",
       "      <td>2018-08-01</td>\n",
       "    </tr>\n",
       "    <tr>\n",
       "      <th>2</th>\n",
       "      <td>1000_2</td>\n",
       "      <td>2018-06-11</td>\n",
       "      <td>3</td>\n",
       "      <td>1000</td>\n",
       "      <td>6</td>\n",
       "      <td>2018-06-01</td>\n",
       "    </tr>\n",
       "    <tr>\n",
       "      <th>3</th>\n",
       "      <td>1000_3</td>\n",
       "      <td>2018-09-21</td>\n",
       "      <td>14</td>\n",
       "      <td>1000</td>\n",
       "      <td>9</td>\n",
       "      <td>2018-09-01</td>\n",
       "    </tr>\n",
       "    <tr>\n",
       "      <th>4</th>\n",
       "      <td>1000_4</td>\n",
       "      <td>2018-12-15</td>\n",
       "      <td>6</td>\n",
       "      <td>1000</td>\n",
       "      <td>12</td>\n",
       "      <td>2018-12-01</td>\n",
       "    </tr>\n",
       "  </tbody>\n",
       "</table>\n",
       "</div>"
      ],
      "text/plain": [
       "       id  call_date  duration  user_id  month_num      month\n",
       "0  1000_0 2018-07-25         0     1000          7 2018-07-01\n",
       "1  1000_1 2018-08-17         0     1000          8 2018-08-01\n",
       "2  1000_2 2018-06-11         3     1000          6 2018-06-01\n",
       "3  1000_3 2018-09-21        14     1000          9 2018-09-01\n",
       "4  1000_4 2018-12-15         6     1000         12 2018-12-01"
      ]
     },
     "execution_count": 13,
     "metadata": {},
     "output_type": "execute_result"
    }
   ],
   "source": [
    "data_calls.head()"
   ]
  },
  {
   "cell_type": "code",
   "execution_count": 14,
   "id": "f6c3df2e",
   "metadata": {},
   "outputs": [],
   "source": [
    "# функция для гистограммы\n",
    "def hist_maker(column):\n",
    "    print(column.describe())\n",
    "    plt.figure(figsize=(10,6))\n",
    "    plt.hist(column, bins=30, color='grey', edgecolor='grey', alpha=0.8)\n",
    "    plt.axvline(column.describe()['mean'], color='r', linestyle='dashed', linewidth=3, label='Mean value: {:.2f}'.format(column.describe()['mean']))\n",
    "    plt.axvline(column.describe()['50%'], color='b', linestyle='dotted', linewidth=3, label='Median value: {:.0f}'.format(column.describe()['50%']))\n",
    "    plt.legend()\n",
    "    plt.title('Histogramm {}'.format(column.name))"
   ]
  },
  {
   "cell_type": "code",
   "execution_count": 15,
   "id": "74d8f2c5",
   "metadata": {
    "scrolled": false
   },
   "outputs": [
    {
     "name": "stdout",
     "output_type": "stream",
     "text": [
      "count    202607.000000\n",
      "mean          7.158198\n",
      "std           5.959173\n",
      "min           0.000000\n",
      "25%           2.000000\n",
      "50%           6.000000\n",
      "75%          11.000000\n",
      "max          38.000000\n",
      "Name: duration, dtype: float64\n"
     ]
    },
    {
     "data": {
      "image/png": "[encoded data removed]",
      "text/plain": [
       "<Figure size 720x432 with 1 Axes>"
      ]
     },
     "metadata": {
      "needs_background": "light"
     },
     "output_type": "display_data"
    }
   ],
   "source": [
    "hist_maker(data_calls['duration'])"
   ]
  },
  {
   "cell_type": "markdown",
   "id": "810b8d2a",
   "metadata": {},
   "source": [
    "**Описание данных:** средняя продолжительность звонков составляет 7-8 минут, но чаще всего люди разговаривают по 6 минут. На гистограмме есть несколько пиков: самый значительный пик - в районе 0, однако это не ошибка. Нулями обозначены пропущенные звонки, соответственно, удалять данные значения было бы неправильно. "
   ]
  },
  {
   "cell_type": "markdown",
   "id": "091926c6",
   "metadata": {},
   "source": [
    "### Сообщения"
   ]
  },
  {
   "cell_type": "code",
   "execution_count": 16,
   "id": "38f82ac9",
   "metadata": {},
   "outputs": [],
   "source": [
    "# Перевод даты из объектного типа в тип datetime64\n",
    "data_messages['message_date'] = pd.to_datetime(data_messages['message_date'] , format='%Y-%m-%d')\n",
    "\n",
    "# Добавляем столбец с категорией месяца: Январь - 1, Февраль - 2, ..., Декабрь - 12\n",
    "data_messages['month_num'] = pd.DatetimeIndex(data_messages['message_date']).month\n",
    "\n",
    "# Добавляем столбец с началом календарного месяца\n",
    "data_messages['month'] = data_messages['message_date'].astype('datetime64[M]')"
   ]
  },
  {
   "cell_type": "code",
   "execution_count": 17,
   "id": "7b63847c",
   "metadata": {},
   "outputs": [
    {
     "data": {
      "text/plain": [
       "0"
      ]
     },
     "execution_count": 17,
     "metadata": {},
     "output_type": "execute_result"
    }
   ],
   "source": [
    "# проверяем на наличие дубликатов\n",
    "data_messages.duplicated().sum()"
   ]
  },
  {
   "cell_type": "code",
   "execution_count": 18,
   "id": "e6fbc2eb",
   "metadata": {
    "scrolled": true
   },
   "outputs": [
    {
     "data": {
      "text/html": [
       "<div>\n",
       "<style scoped>\n",
       "    .dataframe tbody tr th:only-of-type {\n",
       "        vertical-align: middle;\n",
       "    }\n",
       "\n",
       "    .dataframe tbody tr th {\n",
       "        vertical-align: top;\n",
       "    }\n",
       "\n",
       "    .dataframe thead th {\n",
       "        text-align: right;\n",
       "    }\n",
       "</style>\n",
       "<table border=\"1\" class=\"dataframe\">\n",
       "  <thead>\n",
       "    <tr style=\"text-align: right;\">\n",
       "      <th></th>\n",
       "      <th>id</th>\n",
       "      <th>message_date</th>\n",
       "      <th>user_id</th>\n",
       "      <th>month_num</th>\n",
       "      <th>month</th>\n",
       "    </tr>\n",
       "  </thead>\n",
       "  <tbody>\n",
       "    <tr>\n",
       "      <th>0</th>\n",
       "      <td>1000_0</td>\n",
       "      <td>2018-06-27</td>\n",
       "      <td>1000</td>\n",
       "      <td>6</td>\n",
       "      <td>2018-06-01</td>\n",
       "    </tr>\n",
       "    <tr>\n",
       "      <th>1</th>\n",
       "      <td>1000_1</td>\n",
       "      <td>2018-10-08</td>\n",
       "      <td>1000</td>\n",
       "      <td>10</td>\n",
       "      <td>2018-10-01</td>\n",
       "    </tr>\n",
       "    <tr>\n",
       "      <th>2</th>\n",
       "      <td>1000_2</td>\n",
       "      <td>2018-08-04</td>\n",
       "      <td>1000</td>\n",
       "      <td>8</td>\n",
       "      <td>2018-08-01</td>\n",
       "    </tr>\n",
       "    <tr>\n",
       "      <th>3</th>\n",
       "      <td>1000_3</td>\n",
       "      <td>2018-06-16</td>\n",
       "      <td>1000</td>\n",
       "      <td>6</td>\n",
       "      <td>2018-06-01</td>\n",
       "    </tr>\n",
       "    <tr>\n",
       "      <th>4</th>\n",
       "      <td>1000_4</td>\n",
       "      <td>2018-12-05</td>\n",
       "      <td>1000</td>\n",
       "      <td>12</td>\n",
       "      <td>2018-12-01</td>\n",
       "    </tr>\n",
       "  </tbody>\n",
       "</table>\n",
       "</div>"
      ],
      "text/plain": [
       "       id message_date  user_id  month_num      month\n",
       "0  1000_0   2018-06-27     1000          6 2018-06-01\n",
       "1  1000_1   2018-10-08     1000         10 2018-10-01\n",
       "2  1000_2   2018-08-04     1000          8 2018-08-01\n",
       "3  1000_3   2018-06-16     1000          6 2018-06-01\n",
       "4  1000_4   2018-12-05     1000         12 2018-12-01"
      ]
     },
     "execution_count": 18,
     "metadata": {},
     "output_type": "execute_result"
    }
   ],
   "source": [
    "data_messages.head()"
   ]
  },
  {
   "cell_type": "code",
   "execution_count": 19,
   "id": "fdb913a3",
   "metadata": {
    "scrolled": false
   },
   "outputs": [
    {
     "name": "stdout",
     "output_type": "stream",
     "text": [
      "count    2717.000000\n",
      "mean       45.283769\n",
      "std        35.051363\n",
      "min         1.000000\n",
      "25%        19.000000\n",
      "50%        38.000000\n",
      "75%        63.000000\n",
      "max       224.000000\n",
      "Name: messages, dtype: float64\n",
      "Amount of clients used the service (messages): 426\n"
     ]
    },
    {
     "data": {
      "image/png": "[encoded data removed]",
      "text/plain": [
       "<Figure size 720x432 with 1 Axes>"
      ]
     },
     "metadata": {
      "needs_background": "light"
     },
     "output_type": "display_data"
    }
   ],
   "source": [
    "#считаем количество сообщений от каждого пользователя за каждый месяц\n",
    "messages_count = data_messages.groupby(['user_id','month']).agg(\n",
    "    messages = ('id', 'count')\n",
    ").reset_index()\n",
    "\n",
    "hist_maker(messages_count['messages'])\n",
    "print('Amount of clients used the service (messages):',messages_count['user_id'].nunique())"
   ]
  },
  {
   "cell_type": "markdown",
   "id": "a2e1553a",
   "metadata": {},
   "source": [
    "**Описание данных:** в среднем клиенты отправляют около 45 сообщений в месяц, наиболее частое значение - 38. По гистограмме видно, что наибольшее число клиентов не так активно пользуется сообщениями, основная масса значений лежит в пределаж 30-40 сообщений в месяц."
   ]
  },
  {
   "cell_type": "markdown",
   "id": "7238039e",
   "metadata": {},
   "source": [
    "### Интернет"
   ]
  },
  {
   "cell_type": "code",
   "execution_count": 20,
   "id": "cb7d2cdc",
   "metadata": {},
   "outputs": [],
   "source": [
    "# Перевод даты из объектного типа в тип datetime64\n",
    "data_internet['session_date'] = pd.to_datetime(data_internet['session_date'] , format='%Y-%m-%d')\n",
    "\n",
    "# Добавляем столбец с категорией месяца: Январь - 1, Февраль - 2, ..., Декабрь - 12\n",
    "data_internet['month_num'] = pd.DatetimeIndex(data_internet['session_date']).month\n",
    "\n",
    "# Добавляем столбец с началом календарного месяца\n",
    "data_internet['month'] = data_internet['session_date'].astype('datetime64[M]')"
   ]
  },
  {
   "cell_type": "code",
   "execution_count": 21,
   "id": "94ff1d33",
   "metadata": {},
   "outputs": [
    {
     "data": {
      "text/plain": [
       "0"
      ]
     },
     "execution_count": 21,
     "metadata": {},
     "output_type": "execute_result"
    }
   ],
   "source": [
    "data_internet.duplicated().sum()"
   ]
  },
  {
   "cell_type": "code",
   "execution_count": 22,
   "id": "897a4e37",
   "metadata": {
    "scrolled": false
   },
   "outputs": [
    {
     "data": {
      "text/html": [
       "<div>\n",
       "<style scoped>\n",
       "    .dataframe tbody tr th:only-of-type {\n",
       "        vertical-align: middle;\n",
       "    }\n",
       "\n",
       "    .dataframe tbody tr th {\n",
       "        vertical-align: top;\n",
       "    }\n",
       "\n",
       "    .dataframe thead th {\n",
       "        text-align: right;\n",
       "    }\n",
       "</style>\n",
       "<table border=\"1\" class=\"dataframe\">\n",
       "  <thead>\n",
       "    <tr style=\"text-align: right;\">\n",
       "      <th></th>\n",
       "      <th>id</th>\n",
       "      <th>mb_used</th>\n",
       "      <th>session_date</th>\n",
       "      <th>user_id</th>\n",
       "      <th>month_num</th>\n",
       "      <th>month</th>\n",
       "    </tr>\n",
       "  </thead>\n",
       "  <tbody>\n",
       "    <tr>\n",
       "      <th>0</th>\n",
       "      <td>1000_0</td>\n",
       "      <td>112.95</td>\n",
       "      <td>2018-11-25</td>\n",
       "      <td>1000</td>\n",
       "      <td>11</td>\n",
       "      <td>2018-11-01</td>\n",
       "    </tr>\n",
       "    <tr>\n",
       "      <th>1</th>\n",
       "      <td>1000_1</td>\n",
       "      <td>1052.81</td>\n",
       "      <td>2018-09-07</td>\n",
       "      <td>1000</td>\n",
       "      <td>9</td>\n",
       "      <td>2018-09-01</td>\n",
       "    </tr>\n",
       "    <tr>\n",
       "      <th>2</th>\n",
       "      <td>1000_2</td>\n",
       "      <td>1197.26</td>\n",
       "      <td>2018-06-25</td>\n",
       "      <td>1000</td>\n",
       "      <td>6</td>\n",
       "      <td>2018-06-01</td>\n",
       "    </tr>\n",
       "    <tr>\n",
       "      <th>3</th>\n",
       "      <td>1000_3</td>\n",
       "      <td>550.27</td>\n",
       "      <td>2018-08-22</td>\n",
       "      <td>1000</td>\n",
       "      <td>8</td>\n",
       "      <td>2018-08-01</td>\n",
       "    </tr>\n",
       "    <tr>\n",
       "      <th>4</th>\n",
       "      <td>1000_4</td>\n",
       "      <td>302.56</td>\n",
       "      <td>2018-09-24</td>\n",
       "      <td>1000</td>\n",
       "      <td>9</td>\n",
       "      <td>2018-09-01</td>\n",
       "    </tr>\n",
       "  </tbody>\n",
       "</table>\n",
       "</div>"
      ],
      "text/plain": [
       "       id  mb_used session_date  user_id  month_num      month\n",
       "0  1000_0   112.95   2018-11-25     1000         11 2018-11-01\n",
       "1  1000_1  1052.81   2018-09-07     1000          9 2018-09-01\n",
       "2  1000_2  1197.26   2018-06-25     1000          6 2018-06-01\n",
       "3  1000_3   550.27   2018-08-22     1000          8 2018-08-01\n",
       "4  1000_4   302.56   2018-09-24     1000          9 2018-09-01"
      ]
     },
     "execution_count": 22,
     "metadata": {},
     "output_type": "execute_result"
    }
   ],
   "source": [
    "data_internet.head()"
   ]
  },
  {
   "cell_type": "code",
   "execution_count": 23,
   "id": "d8e2c637",
   "metadata": {},
   "outputs": [
    {
     "name": "stdout",
     "output_type": "stream",
     "text": [
      "count    3203.000000\n",
      "mean       46.642523\n",
      "std        18.696094\n",
      "min         1.000000\n",
      "25%        35.000000\n",
      "50%        48.000000\n",
      "75%        59.000000\n",
      "max       118.000000\n",
      "Name: mb_used, dtype: float64\n"
     ]
    },
    {
     "data": {
      "image/png": "[encoded data removed]",
      "text/plain": [
       "<Figure size 720x432 with 1 Axes>"
      ]
     },
     "metadata": {
      "needs_background": "light"
     },
     "output_type": "display_data"
    }
   ],
   "source": [
    "mb_count = data_internet.groupby(['user_id','month']).agg(\n",
    "    mb_used = ('id', 'count')\n",
    ").reset_index()\n",
    "\n",
    "hist_maker(mb_count['mb_used'])"
   ]
  },
  {
   "cell_type": "markdown",
   "id": "6bd461d9",
   "metadata": {},
   "source": [
    "### Вывод"
   ]
  },
  {
   "cell_type": "markdown",
   "id": "3e7f0e3b",
   "metadata": {},
   "source": [
    "- данные приведены к нужным типам\n",
    "- добавлены столбцы с месяцами для анализа в последющих шагах\n",
    "- дубликатов нет\n",
    "- распределения данных выглядят вполне реалистично"
   ]
  },
  {
   "cell_type": "markdown",
   "id": "1cf156b8",
   "metadata": {},
   "source": [
    "## Расчеты агрегированных данных"
   ]
  },
  {
   "cell_type": "markdown",
   "id": "28040cee",
   "metadata": {},
   "source": [
    "На данном шаге посчитаем для каждого пользователя количество минут, звонков, смс и интернет трафика в месяц. Это необходимо, чтобы в дальнейшем сравнить активность пользователей с включенными в тарифный план объемами. "
   ]
  },
  {
   "cell_type": "markdown",
   "id": "e79af308",
   "metadata": {},
   "source": [
    "### Количество и продолжительность звонков"
   ]
  },
  {
   "cell_type": "code",
   "execution_count": 24,
   "id": "da715c5b",
   "metadata": {
    "scrolled": true
   },
   "outputs": [
    {
     "data": {
      "text/html": [
       "<div>\n",
       "<style scoped>\n",
       "    .dataframe tbody tr th:only-of-type {\n",
       "        vertical-align: middle;\n",
       "    }\n",
       "\n",
       "    .dataframe tbody tr th {\n",
       "        vertical-align: top;\n",
       "    }\n",
       "\n",
       "    .dataframe thead th {\n",
       "        text-align: right;\n",
       "    }\n",
       "</style>\n",
       "<table border=\"1\" class=\"dataframe\">\n",
       "  <thead>\n",
       "    <tr style=\"text-align: right;\">\n",
       "      <th></th>\n",
       "      <th>user_id</th>\n",
       "      <th>month</th>\n",
       "      <th>calls_duration</th>\n",
       "      <th>calls_number</th>\n",
       "    </tr>\n",
       "  </thead>\n",
       "  <tbody>\n",
       "    <tr>\n",
       "      <th>0</th>\n",
       "      <td>1000</td>\n",
       "      <td>2018-05-01</td>\n",
       "      <td>159</td>\n",
       "      <td>22</td>\n",
       "    </tr>\n",
       "    <tr>\n",
       "      <th>1</th>\n",
       "      <td>1000</td>\n",
       "      <td>2018-06-01</td>\n",
       "      <td>172</td>\n",
       "      <td>43</td>\n",
       "    </tr>\n",
       "    <tr>\n",
       "      <th>2</th>\n",
       "      <td>1000</td>\n",
       "      <td>2018-07-01</td>\n",
       "      <td>340</td>\n",
       "      <td>47</td>\n",
       "    </tr>\n",
       "    <tr>\n",
       "      <th>3</th>\n",
       "      <td>1000</td>\n",
       "      <td>2018-08-01</td>\n",
       "      <td>408</td>\n",
       "      <td>52</td>\n",
       "    </tr>\n",
       "    <tr>\n",
       "      <th>4</th>\n",
       "      <td>1000</td>\n",
       "      <td>2018-09-01</td>\n",
       "      <td>466</td>\n",
       "      <td>58</td>\n",
       "    </tr>\n",
       "  </tbody>\n",
       "</table>\n",
       "</div>"
      ],
      "text/plain": [
       "   user_id      month  calls_duration  calls_number\n",
       "0     1000 2018-05-01             159            22\n",
       "1     1000 2018-06-01             172            43\n",
       "2     1000 2018-07-01             340            47\n",
       "3     1000 2018-08-01             408            52\n",
       "4     1000 2018-09-01             466            58"
      ]
     },
     "execution_count": 24,
     "metadata": {},
     "output_type": "execute_result"
    }
   ],
   "source": [
    "#группируем данные по клиенту и месяцу\n",
    "calls = data_calls.groupby(['user_id','month']).agg(\n",
    "        calls_duration = pd.NamedAgg(column = 'duration', aggfunc = 'sum'),\n",
    "        calls_number = ( 'id', 'count'),\n",
    "    ).reset_index()\n",
    "calls.head()"
   ]
  },
  {
   "cell_type": "markdown",
   "id": "ae6d2795",
   "metadata": {},
   "source": [
    "### Количество сообщений"
   ]
  },
  {
   "cell_type": "code",
   "execution_count": 25,
   "id": "337122b7",
   "metadata": {},
   "outputs": [
    {
     "data": {
      "text/html": [
       "<div>\n",
       "<style scoped>\n",
       "    .dataframe tbody tr th:only-of-type {\n",
       "        vertical-align: middle;\n",
       "    }\n",
       "\n",
       "    .dataframe tbody tr th {\n",
       "        vertical-align: top;\n",
       "    }\n",
       "\n",
       "    .dataframe thead th {\n",
       "        text-align: right;\n",
       "    }\n",
       "</style>\n",
       "<table border=\"1\" class=\"dataframe\">\n",
       "  <thead>\n",
       "    <tr style=\"text-align: right;\">\n",
       "      <th></th>\n",
       "      <th>user_id</th>\n",
       "      <th>month</th>\n",
       "      <th>msgs_number</th>\n",
       "    </tr>\n",
       "  </thead>\n",
       "  <tbody>\n",
       "    <tr>\n",
       "      <th>0</th>\n",
       "      <td>1000</td>\n",
       "      <td>2018-05-01</td>\n",
       "      <td>22</td>\n",
       "    </tr>\n",
       "    <tr>\n",
       "      <th>1</th>\n",
       "      <td>1000</td>\n",
       "      <td>2018-06-01</td>\n",
       "      <td>60</td>\n",
       "    </tr>\n",
       "    <tr>\n",
       "      <th>2</th>\n",
       "      <td>1000</td>\n",
       "      <td>2018-07-01</td>\n",
       "      <td>75</td>\n",
       "    </tr>\n",
       "    <tr>\n",
       "      <th>3</th>\n",
       "      <td>1000</td>\n",
       "      <td>2018-08-01</td>\n",
       "      <td>81</td>\n",
       "    </tr>\n",
       "    <tr>\n",
       "      <th>4</th>\n",
       "      <td>1000</td>\n",
       "      <td>2018-09-01</td>\n",
       "      <td>57</td>\n",
       "    </tr>\n",
       "  </tbody>\n",
       "</table>\n",
       "</div>"
      ],
      "text/plain": [
       "   user_id      month  msgs_number\n",
       "0     1000 2018-05-01           22\n",
       "1     1000 2018-06-01           60\n",
       "2     1000 2018-07-01           75\n",
       "3     1000 2018-08-01           81\n",
       "4     1000 2018-09-01           57"
      ]
     },
     "execution_count": 25,
     "metadata": {},
     "output_type": "execute_result"
    }
   ],
   "source": [
    "# группируем данные по клиенту и месяцу\n",
    "msgs = data_messages.groupby(['user_id','month']).agg(\n",
    "        msgs_number = pd.NamedAgg(column = 'id', aggfunc = 'count'),\n",
    "    ).reset_index()\n",
    "msgs.head()"
   ]
  },
  {
   "cell_type": "markdown",
   "id": "df1f7ff7",
   "metadata": {},
   "source": [
    "### Объем интернет-трафика"
   ]
  },
  {
   "cell_type": "code",
   "execution_count": 26,
   "id": "28bbe013",
   "metadata": {},
   "outputs": [
    {
     "data": {
      "text/html": [
       "<div>\n",
       "<style scoped>\n",
       "    .dataframe tbody tr th:only-of-type {\n",
       "        vertical-align: middle;\n",
       "    }\n",
       "\n",
       "    .dataframe tbody tr th {\n",
       "        vertical-align: top;\n",
       "    }\n",
       "\n",
       "    .dataframe thead th {\n",
       "        text-align: right;\n",
       "    }\n",
       "</style>\n",
       "<table border=\"1\" class=\"dataframe\">\n",
       "  <thead>\n",
       "    <tr style=\"text-align: right;\">\n",
       "      <th></th>\n",
       "      <th>user_id</th>\n",
       "      <th>month</th>\n",
       "      <th>internet_used</th>\n",
       "    </tr>\n",
       "  </thead>\n",
       "  <tbody>\n",
       "    <tr>\n",
       "      <th>0</th>\n",
       "      <td>1000</td>\n",
       "      <td>2018-05-01</td>\n",
       "      <td>2253.49</td>\n",
       "    </tr>\n",
       "    <tr>\n",
       "      <th>1</th>\n",
       "      <td>1000</td>\n",
       "      <td>2018-06-01</td>\n",
       "      <td>23233.77</td>\n",
       "    </tr>\n",
       "    <tr>\n",
       "      <th>2</th>\n",
       "      <td>1000</td>\n",
       "      <td>2018-07-01</td>\n",
       "      <td>14003.64</td>\n",
       "    </tr>\n",
       "  </tbody>\n",
       "</table>\n",
       "</div>"
      ],
      "text/plain": [
       "   user_id      month  internet_used\n",
       "0     1000 2018-05-01        2253.49\n",
       "1     1000 2018-06-01       23233.77\n",
       "2     1000 2018-07-01       14003.64"
      ]
     },
     "execution_count": 26,
     "metadata": {},
     "output_type": "execute_result"
    }
   ],
   "source": [
    "# группируем данные по клиенту и месяцу\n",
    "internet = data_internet.groupby(['user_id','month']).agg(\n",
    "        internet_used = pd.NamedAgg(column = 'mb_used', aggfunc = 'sum'),\n",
    "    ).reset_index()\n",
    "internet.head(3)"
   ]
  },
  {
   "cell_type": "code",
   "execution_count": 27,
   "id": "5b9024c2",
   "metadata": {},
   "outputs": [],
   "source": [
    "# по условиям тарифа стоит мегабайты перевести в гигабайты\n",
    "internet['gb'] = np.ceil(internet['internet_used'] / 1024).astype('int')"
   ]
  },
  {
   "cell_type": "code",
   "execution_count": 28,
   "id": "010dca63",
   "metadata": {
    "scrolled": true
   },
   "outputs": [
    {
     "data": {
      "text/html": [
       "<div>\n",
       "<style scoped>\n",
       "    .dataframe tbody tr th:only-of-type {\n",
       "        vertical-align: middle;\n",
       "    }\n",
       "\n",
       "    .dataframe tbody tr th {\n",
       "        vertical-align: top;\n",
       "    }\n",
       "\n",
       "    .dataframe thead th {\n",
       "        text-align: right;\n",
       "    }\n",
       "</style>\n",
       "<table border=\"1\" class=\"dataframe\">\n",
       "  <thead>\n",
       "    <tr style=\"text-align: right;\">\n",
       "      <th></th>\n",
       "      <th>user_id</th>\n",
       "      <th>month</th>\n",
       "      <th>internet_used</th>\n",
       "      <th>gb</th>\n",
       "    </tr>\n",
       "  </thead>\n",
       "  <tbody>\n",
       "    <tr>\n",
       "      <th>0</th>\n",
       "      <td>1000</td>\n",
       "      <td>2018-05-01</td>\n",
       "      <td>2253.49</td>\n",
       "      <td>3</td>\n",
       "    </tr>\n",
       "    <tr>\n",
       "      <th>1</th>\n",
       "      <td>1000</td>\n",
       "      <td>2018-06-01</td>\n",
       "      <td>23233.77</td>\n",
       "      <td>23</td>\n",
       "    </tr>\n",
       "    <tr>\n",
       "      <th>2</th>\n",
       "      <td>1000</td>\n",
       "      <td>2018-07-01</td>\n",
       "      <td>14003.64</td>\n",
       "      <td>14</td>\n",
       "    </tr>\n",
       "    <tr>\n",
       "      <th>3</th>\n",
       "      <td>1000</td>\n",
       "      <td>2018-08-01</td>\n",
       "      <td>14055.93</td>\n",
       "      <td>14</td>\n",
       "    </tr>\n",
       "    <tr>\n",
       "      <th>4</th>\n",
       "      <td>1000</td>\n",
       "      <td>2018-09-01</td>\n",
       "      <td>14568.91</td>\n",
       "      <td>15</td>\n",
       "    </tr>\n",
       "  </tbody>\n",
       "</table>\n",
       "</div>"
      ],
      "text/plain": [
       "   user_id      month  internet_used  gb\n",
       "0     1000 2018-05-01        2253.49   3\n",
       "1     1000 2018-06-01       23233.77  23\n",
       "2     1000 2018-07-01       14003.64  14\n",
       "3     1000 2018-08-01       14055.93  14\n",
       "4     1000 2018-09-01       14568.91  15"
      ]
     },
     "execution_count": 28,
     "metadata": {},
     "output_type": "execute_result"
    }
   ],
   "source": [
    "internet.head()"
   ]
  },
  {
   "cell_type": "markdown",
   "id": "9f632078",
   "metadata": {},
   "source": [
    "## Объединение данных"
   ]
  },
  {
   "cell_type": "markdown",
   "id": "f23ade79",
   "metadata": {},
   "source": [
    "Объединим все таблицы в одну, чтобы для каждого пользователя в месяц была информация о количестве и продожительности звонков, отправленных сообщениях и использованном интернете."
   ]
  },
  {
   "cell_type": "code",
   "execution_count": 29,
   "id": "f1e0a518",
   "metadata": {
    "scrolled": true
   },
   "outputs": [],
   "source": [
    "data = calls.merge(\n",
    "    msgs, how='outer', on=['user_id', 'month'])"
   ]
  },
  {
   "cell_type": "code",
   "execution_count": 30,
   "id": "efd2c8fc",
   "metadata": {
    "scrolled": true
   },
   "outputs": [
    {
     "data": {
      "text/html": [
       "<div>\n",
       "<style scoped>\n",
       "    .dataframe tbody tr th:only-of-type {\n",
       "        vertical-align: middle;\n",
       "    }\n",
       "\n",
       "    .dataframe tbody tr th {\n",
       "        vertical-align: top;\n",
       "    }\n",
       "\n",
       "    .dataframe thead th {\n",
       "        text-align: right;\n",
       "    }\n",
       "</style>\n",
       "<table border=\"1\" class=\"dataframe\">\n",
       "  <thead>\n",
       "    <tr style=\"text-align: right;\">\n",
       "      <th></th>\n",
       "      <th>user_id</th>\n",
       "      <th>month</th>\n",
       "      <th>calls_duration</th>\n",
       "      <th>calls_number</th>\n",
       "      <th>msgs_number</th>\n",
       "      <th>internet_used</th>\n",
       "      <th>gb</th>\n",
       "    </tr>\n",
       "  </thead>\n",
       "  <tbody>\n",
       "    <tr>\n",
       "      <th>0</th>\n",
       "      <td>1000</td>\n",
       "      <td>2018-05-01</td>\n",
       "      <td>159.0</td>\n",
       "      <td>22.0</td>\n",
       "      <td>22.0</td>\n",
       "      <td>2253.49</td>\n",
       "      <td>3.0</td>\n",
       "    </tr>\n",
       "    <tr>\n",
       "      <th>1</th>\n",
       "      <td>1000</td>\n",
       "      <td>2018-06-01</td>\n",
       "      <td>172.0</td>\n",
       "      <td>43.0</td>\n",
       "      <td>60.0</td>\n",
       "      <td>23233.77</td>\n",
       "      <td>23.0</td>\n",
       "    </tr>\n",
       "    <tr>\n",
       "      <th>2</th>\n",
       "      <td>1000</td>\n",
       "      <td>2018-07-01</td>\n",
       "      <td>340.0</td>\n",
       "      <td>47.0</td>\n",
       "      <td>75.0</td>\n",
       "      <td>14003.64</td>\n",
       "      <td>14.0</td>\n",
       "    </tr>\n",
       "    <tr>\n",
       "      <th>3</th>\n",
       "      <td>1000</td>\n",
       "      <td>2018-08-01</td>\n",
       "      <td>408.0</td>\n",
       "      <td>52.0</td>\n",
       "      <td>81.0</td>\n",
       "      <td>14055.93</td>\n",
       "      <td>14.0</td>\n",
       "    </tr>\n",
       "    <tr>\n",
       "      <th>4</th>\n",
       "      <td>1000</td>\n",
       "      <td>2018-09-01</td>\n",
       "      <td>466.0</td>\n",
       "      <td>58.0</td>\n",
       "      <td>57.0</td>\n",
       "      <td>14568.91</td>\n",
       "      <td>15.0</td>\n",
       "    </tr>\n",
       "    <tr>\n",
       "      <th>...</th>\n",
       "      <td>...</td>\n",
       "      <td>...</td>\n",
       "      <td>...</td>\n",
       "      <td>...</td>\n",
       "      <td>...</td>\n",
       "      <td>...</td>\n",
       "      <td>...</td>\n",
       "    </tr>\n",
       "    <tr>\n",
       "      <th>3209</th>\n",
       "      <td>1489</td>\n",
       "      <td>2018-09-01</td>\n",
       "      <td>NaN</td>\n",
       "      <td>NaN</td>\n",
       "      <td>32.0</td>\n",
       "      <td>17206.30</td>\n",
       "      <td>17.0</td>\n",
       "    </tr>\n",
       "    <tr>\n",
       "      <th>3210</th>\n",
       "      <td>1489</td>\n",
       "      <td>2018-10-01</td>\n",
       "      <td>NaN</td>\n",
       "      <td>NaN</td>\n",
       "      <td>21.0</td>\n",
       "      <td>19559.44</td>\n",
       "      <td>20.0</td>\n",
       "    </tr>\n",
       "    <tr>\n",
       "      <th>3211</th>\n",
       "      <td>1489</td>\n",
       "      <td>2018-11-01</td>\n",
       "      <td>NaN</td>\n",
       "      <td>NaN</td>\n",
       "      <td>20.0</td>\n",
       "      <td>17491.56</td>\n",
       "      <td>18.0</td>\n",
       "    </tr>\n",
       "    <tr>\n",
       "      <th>3212</th>\n",
       "      <td>1489</td>\n",
       "      <td>2018-12-01</td>\n",
       "      <td>NaN</td>\n",
       "      <td>NaN</td>\n",
       "      <td>35.0</td>\n",
       "      <td>17322.51</td>\n",
       "      <td>17.0</td>\n",
       "    </tr>\n",
       "    <tr>\n",
       "      <th>3213</th>\n",
       "      <td>1476</td>\n",
       "      <td>2018-04-01</td>\n",
       "      <td>NaN</td>\n",
       "      <td>NaN</td>\n",
       "      <td>NaN</td>\n",
       "      <td>530.78</td>\n",
       "      <td>1.0</td>\n",
       "    </tr>\n",
       "  </tbody>\n",
       "</table>\n",
       "<p>3214 rows × 7 columns</p>\n",
       "</div>"
      ],
      "text/plain": [
       "      user_id      month  calls_duration  calls_number  msgs_number  \\\n",
       "0        1000 2018-05-01           159.0          22.0         22.0   \n",
       "1        1000 2018-06-01           172.0          43.0         60.0   \n",
       "2        1000 2018-07-01           340.0          47.0         75.0   \n",
       "3        1000 2018-08-01           408.0          52.0         81.0   \n",
       "4        1000 2018-09-01           466.0          58.0         57.0   \n",
       "...       ...        ...             ...           ...          ...   \n",
       "3209     1489 2018-09-01             NaN           NaN         32.0   \n",
       "3210     1489 2018-10-01             NaN           NaN         21.0   \n",
       "3211     1489 2018-11-01             NaN           NaN         20.0   \n",
       "3212     1489 2018-12-01             NaN           NaN         35.0   \n",
       "3213     1476 2018-04-01             NaN           NaN          NaN   \n",
       "\n",
       "      internet_used    gb  \n",
       "0           2253.49   3.0  \n",
       "1          23233.77  23.0  \n",
       "2          14003.64  14.0  \n",
       "3          14055.93  14.0  \n",
       "4          14568.91  15.0  \n",
       "...             ...   ...  \n",
       "3209       17206.30  17.0  \n",
       "3210       19559.44  20.0  \n",
       "3211       17491.56  18.0  \n",
       "3212       17322.51  17.0  \n",
       "3213         530.78   1.0  \n",
       "\n",
       "[3214 rows x 7 columns]"
      ]
     },
     "execution_count": 30,
     "metadata": {},
     "output_type": "execute_result"
    }
   ],
   "source": [
    "data = data.merge(\n",
    "    internet, how='outer', on=['user_id', 'month'])\n",
    "data"
   ]
  },
  {
   "cell_type": "code",
   "execution_count": 31,
   "id": "f28ef504",
   "metadata": {
    "scrolled": true
   },
   "outputs": [
    {
     "data": {
      "text/html": [
       "<div>\n",
       "<style scoped>\n",
       "    .dataframe tbody tr th:only-of-type {\n",
       "        vertical-align: middle;\n",
       "    }\n",
       "\n",
       "    .dataframe tbody tr th {\n",
       "        vertical-align: top;\n",
       "    }\n",
       "\n",
       "    .dataframe thead th {\n",
       "        text-align: right;\n",
       "    }\n",
       "</style>\n",
       "<table border=\"1\" class=\"dataframe\">\n",
       "  <thead>\n",
       "    <tr style=\"text-align: right;\">\n",
       "      <th></th>\n",
       "      <th>user_id</th>\n",
       "      <th>month</th>\n",
       "      <th>calls_duration</th>\n",
       "      <th>calls_number</th>\n",
       "      <th>msgs_number</th>\n",
       "      <th>internet_used</th>\n",
       "      <th>gb</th>\n",
       "      <th>tariff</th>\n",
       "      <th>city</th>\n",
       "    </tr>\n",
       "  </thead>\n",
       "  <tbody>\n",
       "    <tr>\n",
       "      <th>0</th>\n",
       "      <td>1000</td>\n",
       "      <td>2018-05-01</td>\n",
       "      <td>159.0</td>\n",
       "      <td>22.0</td>\n",
       "      <td>22.0</td>\n",
       "      <td>2253.49</td>\n",
       "      <td>3.0</td>\n",
       "      <td>ultra</td>\n",
       "      <td>Краснодар</td>\n",
       "    </tr>\n",
       "    <tr>\n",
       "      <th>1</th>\n",
       "      <td>1000</td>\n",
       "      <td>2018-06-01</td>\n",
       "      <td>172.0</td>\n",
       "      <td>43.0</td>\n",
       "      <td>60.0</td>\n",
       "      <td>23233.77</td>\n",
       "      <td>23.0</td>\n",
       "      <td>ultra</td>\n",
       "      <td>Краснодар</td>\n",
       "    </tr>\n",
       "    <tr>\n",
       "      <th>2</th>\n",
       "      <td>1000</td>\n",
       "      <td>2018-07-01</td>\n",
       "      <td>340.0</td>\n",
       "      <td>47.0</td>\n",
       "      <td>75.0</td>\n",
       "      <td>14003.64</td>\n",
       "      <td>14.0</td>\n",
       "      <td>ultra</td>\n",
       "      <td>Краснодар</td>\n",
       "    </tr>\n",
       "    <tr>\n",
       "      <th>3</th>\n",
       "      <td>1000</td>\n",
       "      <td>2018-08-01</td>\n",
       "      <td>408.0</td>\n",
       "      <td>52.0</td>\n",
       "      <td>81.0</td>\n",
       "      <td>14055.93</td>\n",
       "      <td>14.0</td>\n",
       "      <td>ultra</td>\n",
       "      <td>Краснодар</td>\n",
       "    </tr>\n",
       "    <tr>\n",
       "      <th>4</th>\n",
       "      <td>1000</td>\n",
       "      <td>2018-09-01</td>\n",
       "      <td>466.0</td>\n",
       "      <td>58.0</td>\n",
       "      <td>57.0</td>\n",
       "      <td>14568.91</td>\n",
       "      <td>15.0</td>\n",
       "      <td>ultra</td>\n",
       "      <td>Краснодар</td>\n",
       "    </tr>\n",
       "    <tr>\n",
       "      <th>...</th>\n",
       "      <td>...</td>\n",
       "      <td>...</td>\n",
       "      <td>...</td>\n",
       "      <td>...</td>\n",
       "      <td>...</td>\n",
       "      <td>...</td>\n",
       "      <td>...</td>\n",
       "      <td>...</td>\n",
       "      <td>...</td>\n",
       "    </tr>\n",
       "    <tr>\n",
       "      <th>3209</th>\n",
       "      <td>1489</td>\n",
       "      <td>2018-08-01</td>\n",
       "      <td>NaN</td>\n",
       "      <td>NaN</td>\n",
       "      <td>17.0</td>\n",
       "      <td>11050.56</td>\n",
       "      <td>11.0</td>\n",
       "      <td>smart</td>\n",
       "      <td>Санкт-Петербург</td>\n",
       "    </tr>\n",
       "    <tr>\n",
       "      <th>3210</th>\n",
       "      <td>1489</td>\n",
       "      <td>2018-09-01</td>\n",
       "      <td>NaN</td>\n",
       "      <td>NaN</td>\n",
       "      <td>32.0</td>\n",
       "      <td>17206.30</td>\n",
       "      <td>17.0</td>\n",
       "      <td>smart</td>\n",
       "      <td>Санкт-Петербург</td>\n",
       "    </tr>\n",
       "    <tr>\n",
       "      <th>3211</th>\n",
       "      <td>1489</td>\n",
       "      <td>2018-10-01</td>\n",
       "      <td>NaN</td>\n",
       "      <td>NaN</td>\n",
       "      <td>21.0</td>\n",
       "      <td>19559.44</td>\n",
       "      <td>20.0</td>\n",
       "      <td>smart</td>\n",
       "      <td>Санкт-Петербург</td>\n",
       "    </tr>\n",
       "    <tr>\n",
       "      <th>3212</th>\n",
       "      <td>1489</td>\n",
       "      <td>2018-11-01</td>\n",
       "      <td>NaN</td>\n",
       "      <td>NaN</td>\n",
       "      <td>20.0</td>\n",
       "      <td>17491.56</td>\n",
       "      <td>18.0</td>\n",
       "      <td>smart</td>\n",
       "      <td>Санкт-Петербург</td>\n",
       "    </tr>\n",
       "    <tr>\n",
       "      <th>3213</th>\n",
       "      <td>1489</td>\n",
       "      <td>2018-12-01</td>\n",
       "      <td>NaN</td>\n",
       "      <td>NaN</td>\n",
       "      <td>35.0</td>\n",
       "      <td>17322.51</td>\n",
       "      <td>17.0</td>\n",
       "      <td>smart</td>\n",
       "      <td>Санкт-Петербург</td>\n",
       "    </tr>\n",
       "  </tbody>\n",
       "</table>\n",
       "<p>3214 rows × 9 columns</p>\n",
       "</div>"
      ],
      "text/plain": [
       "      user_id      month  calls_duration  calls_number  msgs_number  \\\n",
       "0        1000 2018-05-01           159.0          22.0         22.0   \n",
       "1        1000 2018-06-01           172.0          43.0         60.0   \n",
       "2        1000 2018-07-01           340.0          47.0         75.0   \n",
       "3        1000 2018-08-01           408.0          52.0         81.0   \n",
       "4        1000 2018-09-01           466.0          58.0         57.0   \n",
       "...       ...        ...             ...           ...          ...   \n",
       "3209     1489 2018-08-01             NaN           NaN         17.0   \n",
       "3210     1489 2018-09-01             NaN           NaN         32.0   \n",
       "3211     1489 2018-10-01             NaN           NaN         21.0   \n",
       "3212     1489 2018-11-01             NaN           NaN         20.0   \n",
       "3213     1489 2018-12-01             NaN           NaN         35.0   \n",
       "\n",
       "      internet_used    gb tariff             city  \n",
       "0           2253.49   3.0  ultra        Краснодар  \n",
       "1          23233.77  23.0  ultra        Краснодар  \n",
       "2          14003.64  14.0  ultra        Краснодар  \n",
       "3          14055.93  14.0  ultra        Краснодар  \n",
       "4          14568.91  15.0  ultra        Краснодар  \n",
       "...             ...   ...    ...              ...  \n",
       "3209       11050.56  11.0  smart  Санкт-Петербург  \n",
       "3210       17206.30  17.0  smart  Санкт-Петербург  \n",
       "3211       19559.44  20.0  smart  Санкт-Петербург  \n",
       "3212       17491.56  18.0  smart  Санкт-Петербург  \n",
       "3213       17322.51  17.0  smart  Санкт-Петербург  \n",
       "\n",
       "[3214 rows x 9 columns]"
      ]
     },
     "execution_count": 31,
     "metadata": {},
     "output_type": "execute_result"
    }
   ],
   "source": [
    "data = data.merge(data_users[['user_id', 'tariff', 'city']], on=['user_id'])\n",
    "data"
   ]
  },
  {
   "cell_type": "code",
   "execution_count": 32,
   "id": "f3bbb003",
   "metadata": {
    "scrolled": true
   },
   "outputs": [
    {
     "name": "stdout",
     "output_type": "stream",
     "text": [
      "<class 'pandas.core.frame.DataFrame'>\n",
      "Int64Index: 3214 entries, 0 to 3213\n",
      "Data columns (total 9 columns):\n",
      " #   Column          Non-Null Count  Dtype         \n",
      "---  ------          --------------  -----         \n",
      " 0   user_id         3214 non-null   int64         \n",
      " 1   month           3214 non-null   datetime64[ns]\n",
      " 2   calls_duration  3174 non-null   float64       \n",
      " 3   calls_number    3174 non-null   float64       \n",
      " 4   msgs_number     2717 non-null   float64       \n",
      " 5   internet_used   3203 non-null   float64       \n",
      " 6   gb              3203 non-null   float64       \n",
      " 7   tariff          3214 non-null   object        \n",
      " 8   city            3214 non-null   object        \n",
      "dtypes: datetime64[ns](1), float64(5), int64(1), object(2)\n",
      "memory usage: 251.1+ KB\n"
     ]
    }
   ],
   "source": [
    "data.info()"
   ]
  },
  {
   "cell_type": "markdown",
   "id": "90310088",
   "metadata": {},
   "source": [
    "Заполним пропущенные значения в таблице нулями, так как пропущенные значения говорят о том, что в конкретный месяц пользователь не пользовался услугами (не отправлял смс или не звонил...)"
   ]
  },
  {
   "cell_type": "code",
   "execution_count": 33,
   "id": "04a8a094",
   "metadata": {},
   "outputs": [],
   "source": [
    "data = data.fillna(0)"
   ]
  },
  {
   "cell_type": "code",
   "execution_count": 34,
   "id": "80050cda",
   "metadata": {},
   "outputs": [
    {
     "name": "stdout",
     "output_type": "stream",
     "text": [
      "<class 'pandas.core.frame.DataFrame'>\n",
      "Int64Index: 3214 entries, 0 to 3213\n",
      "Data columns (total 9 columns):\n",
      " #   Column          Non-Null Count  Dtype         \n",
      "---  ------          --------------  -----         \n",
      " 0   user_id         3214 non-null   int64         \n",
      " 1   month           3214 non-null   datetime64[ns]\n",
      " 2   calls_duration  3214 non-null   int64         \n",
      " 3   calls_number    3214 non-null   int64         \n",
      " 4   msgs_number     3214 non-null   int64         \n",
      " 5   internet_used   3214 non-null   float64       \n",
      " 6   gb              3214 non-null   int64         \n",
      " 7   tariff          3214 non-null   object        \n",
      " 8   city            3214 non-null   object        \n",
      "dtypes: datetime64[ns](1), float64(1), int64(5), object(2)\n",
      "memory usage: 251.1+ KB\n"
     ]
    }
   ],
   "source": [
    "for i in ['calls_duration', 'calls_number', 'msgs_number', 'gb']:\n",
    "    data[i] = data[i].astype('int')\n",
    "\n",
    "data.info()"
   ]
  },
  {
   "cell_type": "markdown",
   "id": "4177c969",
   "metadata": {},
   "source": [
    "**Итог:** у нас есть одна таблица, в которой для каждого пользователя в месяц есть все показатели его \"активности\" и название тарифа, которым он(а) пользуется."
   ]
  },
  {
   "cell_type": "markdown",
   "id": "860d92d7",
   "metadata": {},
   "source": [
    "## Помесячная выручка"
   ]
  },
  {
   "cell_type": "markdown",
   "id": "6e565720",
   "metadata": {},
   "source": [
    "Для того, чтобы посчитать помесячную выручку, необходимо к общей таблице добавить столбцы с информацией о тарифе."
   ]
  },
  {
   "cell_type": "code",
   "execution_count": 35,
   "id": "e41c4102",
   "metadata": {
    "scrolled": true
   },
   "outputs": [
    {
     "data": {
      "text/html": [
       "<div>\n",
       "<style scoped>\n",
       "    .dataframe tbody tr th:only-of-type {\n",
       "        vertical-align: middle;\n",
       "    }\n",
       "\n",
       "    .dataframe tbody tr th {\n",
       "        vertical-align: top;\n",
       "    }\n",
       "\n",
       "    .dataframe thead th {\n",
       "        text-align: right;\n",
       "    }\n",
       "</style>\n",
       "<table border=\"1\" class=\"dataframe\">\n",
       "  <thead>\n",
       "    <tr style=\"text-align: right;\">\n",
       "      <th></th>\n",
       "      <th>messages_included</th>\n",
       "      <th>mb_per_month_included</th>\n",
       "      <th>minutes_included</th>\n",
       "      <th>rub_monthly_fee</th>\n",
       "      <th>rub_per_gb</th>\n",
       "      <th>rub_per_message</th>\n",
       "      <th>rub_per_minute</th>\n",
       "      <th>tariff</th>\n",
       "    </tr>\n",
       "  </thead>\n",
       "  <tbody>\n",
       "    <tr>\n",
       "      <th>0</th>\n",
       "      <td>50</td>\n",
       "      <td>15360</td>\n",
       "      <td>500</td>\n",
       "      <td>550</td>\n",
       "      <td>200</td>\n",
       "      <td>3</td>\n",
       "      <td>3</td>\n",
       "      <td>smart</td>\n",
       "    </tr>\n",
       "    <tr>\n",
       "      <th>1</th>\n",
       "      <td>1000</td>\n",
       "      <td>30720</td>\n",
       "      <td>3000</td>\n",
       "      <td>1950</td>\n",
       "      <td>150</td>\n",
       "      <td>1</td>\n",
       "      <td>1</td>\n",
       "      <td>ultra</td>\n",
       "    </tr>\n",
       "  </tbody>\n",
       "</table>\n",
       "</div>"
      ],
      "text/plain": [
       "   messages_included  mb_per_month_included  minutes_included  \\\n",
       "0                 50                  15360               500   \n",
       "1               1000                  30720              3000   \n",
       "\n",
       "   rub_monthly_fee  rub_per_gb  rub_per_message  rub_per_minute tariff  \n",
       "0              550         200                3               3  smart  \n",
       "1             1950         150                1               1  ultra  "
      ]
     },
     "execution_count": 35,
     "metadata": {},
     "output_type": "execute_result"
    }
   ],
   "source": [
    "# переименуем столбец с названием тарифа, чтобы по нему в дальнейшем можно было бы соединить таблицы\n",
    "data_tariffs = data_tariffs.rename(columns={'tariff_name' : 'tariff'})\n",
    "data_tariffs"
   ]
  },
  {
   "cell_type": "code",
   "execution_count": 36,
   "id": "86c8778b",
   "metadata": {},
   "outputs": [
    {
     "data": {
      "text/html": [
       "<div>\n",
       "<style scoped>\n",
       "    .dataframe tbody tr th:only-of-type {\n",
       "        vertical-align: middle;\n",
       "    }\n",
       "\n",
       "    .dataframe tbody tr th {\n",
       "        vertical-align: top;\n",
       "    }\n",
       "\n",
       "    .dataframe thead th {\n",
       "        text-align: right;\n",
       "    }\n",
       "</style>\n",
       "<table border=\"1\" class=\"dataframe\">\n",
       "  <thead>\n",
       "    <tr style=\"text-align: right;\">\n",
       "      <th></th>\n",
       "      <th>user_id</th>\n",
       "      <th>month</th>\n",
       "      <th>calls_duration</th>\n",
       "      <th>calls_number</th>\n",
       "      <th>msgs_number</th>\n",
       "      <th>internet_used</th>\n",
       "      <th>gb</th>\n",
       "      <th>tariff</th>\n",
       "      <th>city</th>\n",
       "      <th>messages_included</th>\n",
       "      <th>mb_per_month_included</th>\n",
       "      <th>minutes_included</th>\n",
       "      <th>rub_monthly_fee</th>\n",
       "      <th>rub_per_gb</th>\n",
       "      <th>rub_per_message</th>\n",
       "      <th>rub_per_minute</th>\n",
       "    </tr>\n",
       "  </thead>\n",
       "  <tbody>\n",
       "    <tr>\n",
       "      <th>0</th>\n",
       "      <td>1000</td>\n",
       "      <td>2018-05-01</td>\n",
       "      <td>159</td>\n",
       "      <td>22</td>\n",
       "      <td>22</td>\n",
       "      <td>2253.49</td>\n",
       "      <td>3</td>\n",
       "      <td>ultra</td>\n",
       "      <td>Краснодар</td>\n",
       "      <td>1000</td>\n",
       "      <td>30720</td>\n",
       "      <td>3000</td>\n",
       "      <td>1950</td>\n",
       "      <td>150</td>\n",
       "      <td>1</td>\n",
       "      <td>1</td>\n",
       "    </tr>\n",
       "    <tr>\n",
       "      <th>1</th>\n",
       "      <td>1000</td>\n",
       "      <td>2018-06-01</td>\n",
       "      <td>172</td>\n",
       "      <td>43</td>\n",
       "      <td>60</td>\n",
       "      <td>23233.77</td>\n",
       "      <td>23</td>\n",
       "      <td>ultra</td>\n",
       "      <td>Краснодар</td>\n",
       "      <td>1000</td>\n",
       "      <td>30720</td>\n",
       "      <td>3000</td>\n",
       "      <td>1950</td>\n",
       "      <td>150</td>\n",
       "      <td>1</td>\n",
       "      <td>1</td>\n",
       "    </tr>\n",
       "    <tr>\n",
       "      <th>2</th>\n",
       "      <td>1000</td>\n",
       "      <td>2018-07-01</td>\n",
       "      <td>340</td>\n",
       "      <td>47</td>\n",
       "      <td>75</td>\n",
       "      <td>14003.64</td>\n",
       "      <td>14</td>\n",
       "      <td>ultra</td>\n",
       "      <td>Краснодар</td>\n",
       "      <td>1000</td>\n",
       "      <td>30720</td>\n",
       "      <td>3000</td>\n",
       "      <td>1950</td>\n",
       "      <td>150</td>\n",
       "      <td>1</td>\n",
       "      <td>1</td>\n",
       "    </tr>\n",
       "  </tbody>\n",
       "</table>\n",
       "</div>"
      ],
      "text/plain": [
       "   user_id      month  calls_duration  calls_number  msgs_number  \\\n",
       "0     1000 2018-05-01             159            22           22   \n",
       "1     1000 2018-06-01             172            43           60   \n",
       "2     1000 2018-07-01             340            47           75   \n",
       "\n",
       "   internet_used  gb tariff       city  messages_included  \\\n",
       "0        2253.49   3  ultra  Краснодар               1000   \n",
       "1       23233.77  23  ultra  Краснодар               1000   \n",
       "2       14003.64  14  ultra  Краснодар               1000   \n",
       "\n",
       "   mb_per_month_included  minutes_included  rub_monthly_fee  rub_per_gb  \\\n",
       "0                  30720              3000             1950         150   \n",
       "1                  30720              3000             1950         150   \n",
       "2                  30720              3000             1950         150   \n",
       "\n",
       "   rub_per_message  rub_per_minute  \n",
       "0                1               1  \n",
       "1                1               1  \n",
       "2                1               1  "
      ]
     },
     "execution_count": 36,
     "metadata": {},
     "output_type": "execute_result"
    }
   ],
   "source": [
    "# добавим к общей таблице информацию о том или ином тарифе\n",
    "data = data.merge(data_tariffs, how='outer', on=['tariff'])\n",
    "data.head(3)"
   ]
  },
  {
   "cell_type": "code",
   "execution_count": 37,
   "id": "f804948a",
   "metadata": {},
   "outputs": [],
   "source": [
    "# функция подсчета выручки:\n",
    "def calculate(row):\n",
    "    fare = row.rub_monthly_fee\n",
    "    if (row.msgs_number > row.messages_included):\n",
    "        fare += (row.msgs_number - row.messages_included)*row.rub_per_message\n",
    "    if (row.calls_duration > row.minutes_included):\n",
    "        fare += (row.calls_duration - row.minutes_included)*row.rub_per_minute\n",
    "    if (row.gb > row.mb_per_month_included / 1024):\n",
    "        fare += (row.gb - row.mb_per_month_included/1024)*row.rub_per_gb\n",
    "    return round(fare, 2)"
   ]
  },
  {
   "cell_type": "code",
   "execution_count": 38,
   "id": "e85b23ef",
   "metadata": {
    "scrolled": true
   },
   "outputs": [
    {
     "data": {
      "text/html": [
       "<div>\n",
       "<style scoped>\n",
       "    .dataframe tbody tr th:only-of-type {\n",
       "        vertical-align: middle;\n",
       "    }\n",
       "\n",
       "    .dataframe tbody tr th {\n",
       "        vertical-align: top;\n",
       "    }\n",
       "\n",
       "    .dataframe thead th {\n",
       "        text-align: right;\n",
       "    }\n",
       "</style>\n",
       "<table border=\"1\" class=\"dataframe\">\n",
       "  <thead>\n",
       "    <tr style=\"text-align: right;\">\n",
       "      <th></th>\n",
       "      <th>user_id</th>\n",
       "      <th>month</th>\n",
       "      <th>calls_duration</th>\n",
       "      <th>calls_number</th>\n",
       "      <th>msgs_number</th>\n",
       "      <th>internet_used</th>\n",
       "      <th>gb</th>\n",
       "      <th>tariff</th>\n",
       "      <th>city</th>\n",
       "      <th>messages_included</th>\n",
       "      <th>mb_per_month_included</th>\n",
       "      <th>minutes_included</th>\n",
       "      <th>rub_monthly_fee</th>\n",
       "      <th>rub_per_gb</th>\n",
       "      <th>rub_per_message</th>\n",
       "      <th>rub_per_minute</th>\n",
       "      <th>monthly_profits</th>\n",
       "    </tr>\n",
       "  </thead>\n",
       "  <tbody>\n",
       "    <tr>\n",
       "      <th>0</th>\n",
       "      <td>1000</td>\n",
       "      <td>2018-05-01</td>\n",
       "      <td>159</td>\n",
       "      <td>22</td>\n",
       "      <td>22</td>\n",
       "      <td>2253.49</td>\n",
       "      <td>3</td>\n",
       "      <td>ultra</td>\n",
       "      <td>Краснодар</td>\n",
       "      <td>1000</td>\n",
       "      <td>30720</td>\n",
       "      <td>3000</td>\n",
       "      <td>1950</td>\n",
       "      <td>150</td>\n",
       "      <td>1</td>\n",
       "      <td>1</td>\n",
       "      <td>1950.0</td>\n",
       "    </tr>\n",
       "    <tr>\n",
       "      <th>1</th>\n",
       "      <td>1000</td>\n",
       "      <td>2018-06-01</td>\n",
       "      <td>172</td>\n",
       "      <td>43</td>\n",
       "      <td>60</td>\n",
       "      <td>23233.77</td>\n",
       "      <td>23</td>\n",
       "      <td>ultra</td>\n",
       "      <td>Краснодар</td>\n",
       "      <td>1000</td>\n",
       "      <td>30720</td>\n",
       "      <td>3000</td>\n",
       "      <td>1950</td>\n",
       "      <td>150</td>\n",
       "      <td>1</td>\n",
       "      <td>1</td>\n",
       "      <td>1950.0</td>\n",
       "    </tr>\n",
       "    <tr>\n",
       "      <th>2</th>\n",
       "      <td>1000</td>\n",
       "      <td>2018-07-01</td>\n",
       "      <td>340</td>\n",
       "      <td>47</td>\n",
       "      <td>75</td>\n",
       "      <td>14003.64</td>\n",
       "      <td>14</td>\n",
       "      <td>ultra</td>\n",
       "      <td>Краснодар</td>\n",
       "      <td>1000</td>\n",
       "      <td>30720</td>\n",
       "      <td>3000</td>\n",
       "      <td>1950</td>\n",
       "      <td>150</td>\n",
       "      <td>1</td>\n",
       "      <td>1</td>\n",
       "      <td>1950.0</td>\n",
       "    </tr>\n",
       "  </tbody>\n",
       "</table>\n",
       "</div>"
      ],
      "text/plain": [
       "   user_id      month  calls_duration  calls_number  msgs_number  \\\n",
       "0     1000 2018-05-01             159            22           22   \n",
       "1     1000 2018-06-01             172            43           60   \n",
       "2     1000 2018-07-01             340            47           75   \n",
       "\n",
       "   internet_used  gb tariff       city  messages_included  \\\n",
       "0        2253.49   3  ultra  Краснодар               1000   \n",
       "1       23233.77  23  ultra  Краснодар               1000   \n",
       "2       14003.64  14  ultra  Краснодар               1000   \n",
       "\n",
       "   mb_per_month_included  minutes_included  rub_monthly_fee  rub_per_gb  \\\n",
       "0                  30720              3000             1950         150   \n",
       "1                  30720              3000             1950         150   \n",
       "2                  30720              3000             1950         150   \n",
       "\n",
       "   rub_per_message  rub_per_minute  monthly_profits  \n",
       "0                1               1           1950.0  \n",
       "1                1               1           1950.0  \n",
       "2                1               1           1950.0  "
      ]
     },
     "execution_count": 38,
     "metadata": {},
     "output_type": "execute_result"
    }
   ],
   "source": [
    "# создаем новый столбец в датафрейме и применяем функцию выручки\n",
    "data['monthly_profits'] = data.apply(calculate, axis=1)\n",
    "data.head(3)"
   ]
  },
  {
   "cell_type": "code",
   "execution_count": 39,
   "id": "49dd92f9",
   "metadata": {
    "scrolled": true
   },
   "outputs": [
    {
     "data": {
      "text/plain": [
       "count    3214.000000\n",
       "mean     1529.076229\n",
       "std       798.251091\n",
       "min       550.000000\n",
       "25%       750.000000\n",
       "50%      1653.500000\n",
       "75%      1950.000000\n",
       "max      6770.000000\n",
       "Name: monthly_profits, dtype: float64"
      ]
     },
     "execution_count": 39,
     "metadata": {},
     "output_type": "execute_result"
    }
   ],
   "source": [
    "data['monthly_profits'].describe()"
   ]
  },
  {
   "cell_type": "code",
   "execution_count": 40,
   "id": "bda63a47",
   "metadata": {
    "scrolled": true
   },
   "outputs": [
    {
     "data": {
      "text/plain": [
       "<AxesSubplot:>"
      ]
     },
     "execution_count": 40,
     "metadata": {},
     "output_type": "execute_result"
    },
    {
     "data": {
      "image/png": "[encoded data removed]",
      "text/plain": [
       "<Figure size 432x288 with 1 Axes>"
      ]
     },
     "metadata": {
      "needs_background": "light"
     },
     "output_type": "display_data"
    }
   ],
   "source": [
    "data['monthly_profits'].hist(bins=50)"
   ]
  },
  {
   "cell_type": "markdown",
   "id": "5d43fd77",
   "metadata": {},
   "source": [
    "**Описание:** в среднем клиенты сотового оператора платят в месяц около 1500 тысяч рублей. По распределению видно, что пики находятся в районах помесячной платы каждого тарифа (550 рублей и 1950 рублей), что говорит о том, что чаще всего клиенты не платят сверх этой стоимости. "
   ]
  },
  {
   "cell_type": "code",
   "execution_count": 41,
   "id": "b3b0b6fb",
   "metadata": {},
   "outputs": [
    {
     "data": {
      "text/plain": [
       "985     430\n",
       "986     414\n",
       "987     117\n",
       "988     214\n",
       "989     289\n",
       "       ... \n",
       "3209      0\n",
       "3210      0\n",
       "3211      0\n",
       "3212      0\n",
       "3213      0\n",
       "Name: calls_duration, Length: 2229, dtype: int64"
      ]
     },
     "execution_count": 41,
     "metadata": {},
     "output_type": "execute_result"
    }
   ],
   "source": [
    "data.groupby(data.tariff)['calls_duration'].get_group('smart')"
   ]
  },
  {
   "cell_type": "markdown",
   "id": "0bdcc5fe",
   "metadata": {},
   "source": [
    "## Анализ данных"
   ]
  },
  {
   "cell_type": "code",
   "execution_count": 42,
   "id": "be8b4dac",
   "metadata": {},
   "outputs": [],
   "source": [
    "# функиця для гистограммы и таблички с основными показателями\n",
    "def hist_maker_and_table(df, name,x_1_smart,x_2_ultra):\n",
    "    cd = df.groupby(df.tariff)[name]\n",
    "    cd_desc = cd.describe(percentiles = [.01,.25,.75,.99])\n",
    "    cd_desc['var']= [np.var(cd.get_group('smart'), ddof=1), np.var(cd.get_group('ultra'), ddof=1)]\n",
    "    display(cd_desc)\n",
    "    smart = df.query('tariff == \"smart\"')[name]\n",
    "    ultra = df.query('tariff == \"ultra\"')[name]\n",
    "    plt.figure(figsize=(10,6))\n",
    "    plt.hist(smart, bins=50, color='blue', edgecolor='grey', alpha=0.5, label = 'smart', density = False)\n",
    "    plt.hist(ultra, bins=50, color='orange', edgecolor='grey', alpha=0.5,label = 'ultra', density = False)\n",
    "    plt.axvline(cd_desc['mean'][0], color='blue', linestyle='dashed', linewidth=3, label='Mean smart: {:.2f}'.format(cd_desc['mean'][0]))\n",
    "    \n",
    "    plt.axvline(cd_desc['mean'][1], color='orange', linestyle='dashed', linewidth=3, label='Mean ultra: {:.2f}'.format(cd_desc['mean'][1]))\n",
    "\n",
    "    plt.axvline(x_1_smart, color='blue', linestyle='solid', linewidth=3, label='Included in tariff smart')\n",
    "    plt.axvline(x_2_ultra, color='orange', linestyle='solid', linewidth=3, label='Included in tariff ultra')\n",
    "    plt.legend()\n",
    "    plt.title('Histogramm {}'.format(name))"
   ]
  },
  {
   "cell_type": "code",
   "execution_count": 43,
   "id": "4987ec54",
   "metadata": {
    "scrolled": true
   },
   "outputs": [
    {
     "name": "stdout",
     "output_type": "stream",
     "text": [
      "СРАВНЕНИЕ ТАРИФА ULTRA И SMART\n"
     ]
    },
    {
     "data": {
      "image/png": "[encoded data removed]",
      "text/plain": [
       "<Figure size 1512x432 with 2 Axes>"
      ]
     },
     "metadata": {
      "needs_background": "light"
     },
     "output_type": "display_data"
    }
   ],
   "source": [
    "print('СРАВНЕНИЕ ТАРИФА ULTRA И SMART')\n",
    "fig = plt.figure(figsize = (21,6))\n",
    "data[data['tariff'] == 'ultra'].boxplot('calls_duration', ax = plt.subplot(1,2,1))\n",
    "data[data['tariff'] == 'smart'].boxplot('calls_duration', ax = plt.subplot(1,2,2));"
   ]
  },
  {
   "cell_type": "code",
   "execution_count": 44,
   "id": "6356a5ea",
   "metadata": {
    "scrolled": true
   },
   "outputs": [
    {
     "data": {
      "image/png": "[encoded data removed]",
      "text/plain": [
       "<Figure size 1512x432 with 2 Axes>"
      ]
     },
     "metadata": {
      "needs_background": "light"
     },
     "output_type": "display_data"
    }
   ],
   "source": [
    "fig = plt.figure(figsize = (21,6))\n",
    "data[data['tariff'] == 'ultra'].boxplot('msgs_number', ax = plt.subplot(1,2,1))\n",
    "data[data['tariff'] == 'smart'].boxplot('msgs_number', ax = plt.subplot(1,2,2));"
   ]
  },
  {
   "cell_type": "code",
   "execution_count": 45,
   "id": "c08b5065",
   "metadata": {},
   "outputs": [
    {
     "data": {
      "image/png": "[encoded data removed]",
      "text/plain": [
       "<Figure size 1512x432 with 2 Axes>"
      ]
     },
     "metadata": {
      "needs_background": "light"
     },
     "output_type": "display_data"
    }
   ],
   "source": [
    "fig = plt.figure(figsize = (21,6))\n",
    "data[data['tariff'] == 'ultra'].boxplot('internet_used', ax = plt.subplot(1,2,1))\n",
    "data[data['tariff'] == 'smart'].boxplot('internet_used', ax = plt.subplot(1,2,2));"
   ]
  },
  {
   "cell_type": "code",
   "execution_count": 46,
   "id": "beeca0a1",
   "metadata": {
    "scrolled": false
   },
   "outputs": [
    {
     "data": {
      "text/html": [
       "<div>\n",
       "<style scoped>\n",
       "    .dataframe tbody tr th:only-of-type {\n",
       "        vertical-align: middle;\n",
       "    }\n",
       "\n",
       "    .dataframe tbody tr th {\n",
       "        vertical-align: top;\n",
       "    }\n",
       "\n",
       "    .dataframe thead th {\n",
       "        text-align: right;\n",
       "    }\n",
       "</style>\n",
       "<table border=\"1\" class=\"dataframe\">\n",
       "  <thead>\n",
       "    <tr style=\"text-align: right;\">\n",
       "      <th></th>\n",
       "      <th>count</th>\n",
       "      <th>mean</th>\n",
       "      <th>std</th>\n",
       "      <th>min</th>\n",
       "      <th>1%</th>\n",
       "      <th>25%</th>\n",
       "      <th>50%</th>\n",
       "      <th>75%</th>\n",
       "      <th>99%</th>\n",
       "      <th>max</th>\n",
       "      <th>var</th>\n",
       "    </tr>\n",
       "    <tr>\n",
       "      <th>tariff</th>\n",
       "      <th></th>\n",
       "      <th></th>\n",
       "      <th></th>\n",
       "      <th></th>\n",
       "      <th></th>\n",
       "      <th></th>\n",
       "      <th></th>\n",
       "      <th></th>\n",
       "      <th></th>\n",
       "      <th></th>\n",
       "      <th></th>\n",
       "    </tr>\n",
       "  </thead>\n",
       "  <tbody>\n",
       "    <tr>\n",
       "      <th>smart</th>\n",
       "      <td>2229.0</td>\n",
       "      <td>417.934948</td>\n",
       "      <td>190.313730</td>\n",
       "      <td>0.0</td>\n",
       "      <td>15.28</td>\n",
       "      <td>282.0</td>\n",
       "      <td>422.0</td>\n",
       "      <td>545.0</td>\n",
       "      <td>872.72</td>\n",
       "      <td>1435.0</td>\n",
       "      <td>36219.315784</td>\n",
       "    </tr>\n",
       "    <tr>\n",
       "      <th>ultra</th>\n",
       "      <td>985.0</td>\n",
       "      <td>526.623350</td>\n",
       "      <td>317.606098</td>\n",
       "      <td>0.0</td>\n",
       "      <td>0.00</td>\n",
       "      <td>284.0</td>\n",
       "      <td>518.0</td>\n",
       "      <td>752.0</td>\n",
       "      <td>1291.12</td>\n",
       "      <td>1673.0</td>\n",
       "      <td>100873.633397</td>\n",
       "    </tr>\n",
       "  </tbody>\n",
       "</table>\n",
       "</div>"
      ],
      "text/plain": [
       "         count        mean         std  min     1%    25%    50%    75%  \\\n",
       "tariff                                                                    \n",
       "smart   2229.0  417.934948  190.313730  0.0  15.28  282.0  422.0  545.0   \n",
       "ultra    985.0  526.623350  317.606098  0.0   0.00  284.0  518.0  752.0   \n",
       "\n",
       "            99%     max            var  \n",
       "tariff                                  \n",
       "smart    872.72  1435.0   36219.315784  \n",
       "ultra   1291.12  1673.0  100873.633397  "
      ]
     },
     "metadata": {},
     "output_type": "display_data"
    },
    {
     "data": {
      "image/png": "[encoded data removed]",
      "text/plain": [
       "<Figure size 720x432 with 1 Axes>"
      ]
     },
     "metadata": {
      "needs_background": "light"
     },
     "output_type": "display_data"
    }
   ],
   "source": [
    "hist_maker_and_table(data,'calls_duration',500,3000)"
   ]
  },
  {
   "cell_type": "code",
   "execution_count": 47,
   "id": "2bac2407",
   "metadata": {
    "scrolled": false
   },
   "outputs": [
    {
     "data": {
      "text/html": [
       "<div>\n",
       "<style scoped>\n",
       "    .dataframe tbody tr th:only-of-type {\n",
       "        vertical-align: middle;\n",
       "    }\n",
       "\n",
       "    .dataframe tbody tr th {\n",
       "        vertical-align: top;\n",
       "    }\n",
       "\n",
       "    .dataframe thead th {\n",
       "        text-align: right;\n",
       "    }\n",
       "</style>\n",
       "<table border=\"1\" class=\"dataframe\">\n",
       "  <thead>\n",
       "    <tr style=\"text-align: right;\">\n",
       "      <th></th>\n",
       "      <th>count</th>\n",
       "      <th>mean</th>\n",
       "      <th>std</th>\n",
       "      <th>min</th>\n",
       "      <th>1%</th>\n",
       "      <th>25%</th>\n",
       "      <th>50%</th>\n",
       "      <th>75%</th>\n",
       "      <th>99%</th>\n",
       "      <th>max</th>\n",
       "      <th>var</th>\n",
       "    </tr>\n",
       "    <tr>\n",
       "      <th>tariff</th>\n",
       "      <th></th>\n",
       "      <th></th>\n",
       "      <th></th>\n",
       "      <th></th>\n",
       "      <th></th>\n",
       "      <th></th>\n",
       "      <th></th>\n",
       "      <th></th>\n",
       "      <th></th>\n",
       "      <th></th>\n",
       "      <th></th>\n",
       "    </tr>\n",
       "  </thead>\n",
       "  <tbody>\n",
       "    <tr>\n",
       "      <th>smart</th>\n",
       "      <td>2229.0</td>\n",
       "      <td>33.384029</td>\n",
       "      <td>28.227876</td>\n",
       "      <td>0.0</td>\n",
       "      <td>0.0</td>\n",
       "      <td>10.0</td>\n",
       "      <td>28.0</td>\n",
       "      <td>51.0</td>\n",
       "      <td>108.00</td>\n",
       "      <td>143.0</td>\n",
       "      <td>796.812958</td>\n",
       "    </tr>\n",
       "    <tr>\n",
       "      <th>ultra</th>\n",
       "      <td>985.0</td>\n",
       "      <td>49.363452</td>\n",
       "      <td>47.804457</td>\n",
       "      <td>0.0</td>\n",
       "      <td>0.0</td>\n",
       "      <td>6.0</td>\n",
       "      <td>38.0</td>\n",
       "      <td>79.0</td>\n",
       "      <td>183.32</td>\n",
       "      <td>224.0</td>\n",
       "      <td>2285.266143</td>\n",
       "    </tr>\n",
       "  </tbody>\n",
       "</table>\n",
       "</div>"
      ],
      "text/plain": [
       "         count       mean        std  min   1%   25%   50%   75%     99%  \\\n",
       "tariff                                                                     \n",
       "smart   2229.0  33.384029  28.227876  0.0  0.0  10.0  28.0  51.0  108.00   \n",
       "ultra    985.0  49.363452  47.804457  0.0  0.0   6.0  38.0  79.0  183.32   \n",
       "\n",
       "          max          var  \n",
       "tariff                      \n",
       "smart   143.0   796.812958  \n",
       "ultra   224.0  2285.266143  "
      ]
     },
     "metadata": {},
     "output_type": "display_data"
    },
    {
     "data": {
      "image/png": "[encoded data removed]",
      "text/plain": [
       "<Figure size 720x432 with 1 Axes>"
      ]
     },
     "metadata": {
      "needs_background": "light"
     },
     "output_type": "display_data"
    }
   ],
   "source": [
    "hist_maker_and_table(data,'msgs_number',50,1000)"
   ]
  },
  {
   "cell_type": "code",
   "execution_count": 48,
   "id": "080d09f4",
   "metadata": {
    "scrolled": false
   },
   "outputs": [
    {
     "data": {
      "text/html": [
       "<div>\n",
       "<style scoped>\n",
       "    .dataframe tbody tr th:only-of-type {\n",
       "        vertical-align: middle;\n",
       "    }\n",
       "\n",
       "    .dataframe tbody tr th {\n",
       "        vertical-align: top;\n",
       "    }\n",
       "\n",
       "    .dataframe thead th {\n",
       "        text-align: right;\n",
       "    }\n",
       "</style>\n",
       "<table border=\"1\" class=\"dataframe\">\n",
       "  <thead>\n",
       "    <tr style=\"text-align: right;\">\n",
       "      <th></th>\n",
       "      <th>count</th>\n",
       "      <th>mean</th>\n",
       "      <th>std</th>\n",
       "      <th>min</th>\n",
       "      <th>1%</th>\n",
       "      <th>25%</th>\n",
       "      <th>50%</th>\n",
       "      <th>75%</th>\n",
       "      <th>99%</th>\n",
       "      <th>max</th>\n",
       "      <th>var</th>\n",
       "    </tr>\n",
       "    <tr>\n",
       "      <th>tariff</th>\n",
       "      <th></th>\n",
       "      <th></th>\n",
       "      <th></th>\n",
       "      <th></th>\n",
       "      <th></th>\n",
       "      <th></th>\n",
       "      <th></th>\n",
       "      <th></th>\n",
       "      <th></th>\n",
       "      <th></th>\n",
       "      <th></th>\n",
       "    </tr>\n",
       "  </thead>\n",
       "  <tbody>\n",
       "    <tr>\n",
       "      <th>smart</th>\n",
       "      <td>2229.0</td>\n",
       "      <td>16208.386990</td>\n",
       "      <td>5870.476681</td>\n",
       "      <td>0.0</td>\n",
       "      <td>1496.0384</td>\n",
       "      <td>12643.01</td>\n",
       "      <td>16506.84</td>\n",
       "      <td>20042.93</td>\n",
       "      <td>29693.6956</td>\n",
       "      <td>38552.45</td>\n",
       "      <td>3.446250e+07</td>\n",
       "    </tr>\n",
       "    <tr>\n",
       "      <th>ultra</th>\n",
       "      <td>985.0</td>\n",
       "      <td>19468.805208</td>\n",
       "      <td>10087.170752</td>\n",
       "      <td>0.0</td>\n",
       "      <td>0.0000</td>\n",
       "      <td>11770.26</td>\n",
       "      <td>19308.01</td>\n",
       "      <td>26837.69</td>\n",
       "      <td>43005.9644</td>\n",
       "      <td>49745.69</td>\n",
       "      <td>1.017510e+08</td>\n",
       "    </tr>\n",
       "  </tbody>\n",
       "</table>\n",
       "</div>"
      ],
      "text/plain": [
       "         count          mean           std  min         1%       25%  \\\n",
       "tariff                                                                 \n",
       "smart   2229.0  16208.386990   5870.476681  0.0  1496.0384  12643.01   \n",
       "ultra    985.0  19468.805208  10087.170752  0.0     0.0000  11770.26   \n",
       "\n",
       "             50%       75%         99%       max           var  \n",
       "tariff                                                          \n",
       "smart   16506.84  20042.93  29693.6956  38552.45  3.446250e+07  \n",
       "ultra   19308.01  26837.69  43005.9644  49745.69  1.017510e+08  "
      ]
     },
     "metadata": {},
     "output_type": "display_data"
    },
    {
     "data": {
      "image/png": "[encoded data removed]",
      "text/plain": [
       "<Figure size 720x432 with 1 Axes>"
      ]
     },
     "metadata": {
      "needs_background": "light"
     },
     "output_type": "display_data"
    }
   ],
   "source": [
    "hist_maker_and_table(data,'internet_used',15360,30720)"
   ]
  },
  {
   "cell_type": "code",
   "execution_count": 49,
   "id": "50859b2c",
   "metadata": {
    "scrolled": false
   },
   "outputs": [
    {
     "data": {
      "text/html": [
       "<div>\n",
       "<style scoped>\n",
       "    .dataframe tbody tr th:only-of-type {\n",
       "        vertical-align: middle;\n",
       "    }\n",
       "\n",
       "    .dataframe tbody tr th {\n",
       "        vertical-align: top;\n",
       "    }\n",
       "\n",
       "    .dataframe thead th {\n",
       "        text-align: right;\n",
       "    }\n",
       "</style>\n",
       "<table border=\"1\" class=\"dataframe\">\n",
       "  <thead>\n",
       "    <tr style=\"text-align: right;\">\n",
       "      <th></th>\n",
       "      <th>count</th>\n",
       "      <th>mean</th>\n",
       "      <th>std</th>\n",
       "      <th>min</th>\n",
       "      <th>1%</th>\n",
       "      <th>25%</th>\n",
       "      <th>50%</th>\n",
       "      <th>75%</th>\n",
       "      <th>99%</th>\n",
       "      <th>max</th>\n",
       "      <th>var</th>\n",
       "    </tr>\n",
       "    <tr>\n",
       "      <th>tariff</th>\n",
       "      <th></th>\n",
       "      <th></th>\n",
       "      <th></th>\n",
       "      <th></th>\n",
       "      <th></th>\n",
       "      <th></th>\n",
       "      <th></th>\n",
       "      <th></th>\n",
       "      <th></th>\n",
       "      <th></th>\n",
       "      <th></th>\n",
       "    </tr>\n",
       "  </thead>\n",
       "  <tbody>\n",
       "    <tr>\n",
       "      <th>smart</th>\n",
       "      <td>2229.0</td>\n",
       "      <td>1289.973531</td>\n",
       "      <td>818.404367</td>\n",
       "      <td>550.0</td>\n",
       "      <td>550.0</td>\n",
       "      <td>550.0</td>\n",
       "      <td>1023.0</td>\n",
       "      <td>1750.0</td>\n",
       "      <td>3773.72</td>\n",
       "      <td>6770.0</td>\n",
       "      <td>669785.708006</td>\n",
       "    </tr>\n",
       "    <tr>\n",
       "      <th>ultra</th>\n",
       "      <td>985.0</td>\n",
       "      <td>2070.152284</td>\n",
       "      <td>376.187114</td>\n",
       "      <td>1950.0</td>\n",
       "      <td>1950.0</td>\n",
       "      <td>1950.0</td>\n",
       "      <td>1950.0</td>\n",
       "      <td>1950.0</td>\n",
       "      <td>3774.00</td>\n",
       "      <td>4800.0</td>\n",
       "      <td>141516.745079</td>\n",
       "    </tr>\n",
       "  </tbody>\n",
       "</table>\n",
       "</div>"
      ],
      "text/plain": [
       "         count         mean         std     min      1%     25%     50%  \\\n",
       "tariff                                                                    \n",
       "smart   2229.0  1289.973531  818.404367   550.0   550.0   550.0  1023.0   \n",
       "ultra    985.0  2070.152284  376.187114  1950.0  1950.0  1950.0  1950.0   \n",
       "\n",
       "           75%      99%     max            var  \n",
       "tariff                                          \n",
       "smart   1750.0  3773.72  6770.0  669785.708006  \n",
       "ultra   1950.0  3774.00  4800.0  141516.745079  "
      ]
     },
     "metadata": {},
     "output_type": "display_data"
    },
    {
     "data": {
      "image/png": "[encoded data removed]",
      "text/plain": [
       "<Figure size 720x432 with 1 Axes>"
      ]
     },
     "metadata": {
      "needs_background": "light"
     },
     "output_type": "display_data"
    }
   ],
   "source": [
    "hist_maker_and_table(data,'monthly_profits',550,1950)"
   ]
  },
  {
   "cell_type": "markdown",
   "id": "8620b6ee",
   "metadata": {},
   "source": [
    "### Выводы"
   ]
  },
  {
   "cell_type": "markdown",
   "id": "a08661b7",
   "metadata": {},
   "source": [
    "**Звонки**:\n",
    "- Пользователи тарифа Смарт в среднем в месяц тратят меньше минут разговора, чем пользователи тарифа Ультра (417 и 520).\n",
    "- На тарифе Смарт пользователи часто не укладываются в лимиты и доплачивают за звонки.\n",
    "- Дисперсия и стандартное отклонение выше на тарифе Ультра, но пользователи этого тарифа всегда укладываются в установленные лимиты. Максимальное число минут разговора в месяц значительно меньше заложенных в него 3000.\n",
    "\n",
    "**Сообщения:**\n",
    "- Пользователи тарифа Смарт в среднем в месяц отправляют меньше сообщений, чем пользователи тарифа Ультра (33 и 49).\n",
    "- Большинство пользователей тарифа Смарт укладывается в лимит, однако есть те, кому приходится доплачивать.\n",
    "- Дисперсия и стандартное отклонение значительно выше на тарифе Ультра, но пользователи этого тарифа всегда укладываются в установленные лимиты. Максимальное количество сообщений намного меньше, заложенного в него 1000.\n",
    "\n",
    "**Интернет:**\n",
    "- Пользователи тарифа Смарт в среднем в месяц используют немного меньше интернета, чем пользователи тарифа Ультра (16 тысяч МБ и 19 тысяч МБ)\n",
    "- Среднее значение использованного интерннета пользователей тарифа Смарт выше, заложенного лимита, + по распределению видно, что пользователи этого тарифа гораздо чаще доплачивают за интернет, так как не укладываются. \n",
    "- Стандартное отклонение и дисперсия значительно выше среди пользователей тарифа Ультра, однако пользователи этого тарифа гораздо реже не укладываются в лимт. Но тем не менее даже некоторые пользователи тарифа Ультра вынуждены доплачивать.\n",
    "\n",
    "**Выручка**\n",
    "- Пользователи тарифа Смарт гораздо чаще платят больше, чем абонентская плата в месяц. В среднем на телефон они тратят около 1300 рублей (плата 550 рублей). Пользователи тарифа Ультра тоже часто переплачивают, однако разница между абоненткой платой и \"переплатой\" значительно меньше (2100 и 1950)\n",
    "- Стандартное отклонение и дисперсия гораздо выше среди пользователей тарифа Смарт"
   ]
  },
  {
   "cell_type": "markdown",
   "id": "17de2987",
   "metadata": {},
   "source": [
    "## Проверка гипотез"
   ]
  },
  {
   "cell_type": "markdown",
   "id": "e354b63c",
   "metadata": {},
   "source": [
    "### Средняя выручка пользователей тарифов «Ультра» и «Смарт» различаются"
   ]
  },
  {
   "cell_type": "markdown",
   "id": "038dd668",
   "metadata": {},
   "source": [
    "**Н0** - Средняя выручка пользователей тарифов «Ультра» и «Смарт» **равны**, т.е. средние значения равны.\n",
    "\n",
    "**Н1** - Средняя выручка пользователей тарифов «Ультра» и «Смарт» **не равны**, т.е. средние значения не равны.\n",
    "\n",
    "Дисперсии выборок были расчитаны выше, они отличаются более чем на 5%"
   ]
  },
  {
   "cell_type": "code",
   "execution_count": 50,
   "id": "c48458de",
   "metadata": {},
   "outputs": [
    {
     "name": "stdout",
     "output_type": "stream",
     "text": [
      "p-значение:  1.4229814360764067e-160\n",
      "Принимаем альтернативную гипотезу\n"
     ]
    }
   ],
   "source": [
    "# проведем статистический тест\n",
    "sample_1 = data[data['tariff'] == 'ultra']['monthly_profits'] \n",
    "sample_2 = data[data['tariff'] == 'smart']['monthly_profits'] \n",
    "results = st.ttest_ind( sample_1, sample_2)\n",
    "alpha = 0.05\n",
    "\n",
    "print('p-значение: ', results.pvalue)\n",
    "if results.pvalue < alpha:\n",
    "    print('Принимаем альтернативную гипотезу')\n",
    "else:\n",
    "    print('Опровергнуть нулевую гипотезу нельзя')"
   ]
  },
  {
   "cell_type": "markdown",
   "id": "58c2152d",
   "metadata": {},
   "source": [
    "**Вывод**: p-значение достаточно мало, что дает основание **отвергнуть предположение об отсутствии различий между выручками** у разных тарифных планов, т.е. маловероятна случайность результатов теста гипотезы.\n"
   ]
  },
  {
   "cell_type": "markdown",
   "id": "96ec8130",
   "metadata": {},
   "source": [
    "**H0:** средняя выручка пользователей тарифов «Ультра» и «Смарт» равны, т.е. средние значения равны.\n",
    "\n",
    "**H1:** средняя выручка пользователей тарифа Смарт ниже средней выручки пользователей тарифа Ультра"
   ]
  },
  {
   "cell_type": "code",
   "execution_count": 53,
   "id": "2da460df",
   "metadata": {},
   "outputs": [
    {
     "name": "stdout",
     "output_type": "stream",
     "text": [
      "p-значение: 7.114907180382033e-161\n",
      "Принимаем альтернативную гипотезу\n"
     ]
    }
   ],
   "source": [
    "alpha = .05 # уровень статистической значимости\n",
    "\n",
    "results_2 = st.ttest_ind(\n",
    "    sample_1, \n",
    "    sample_2, alternative='greater')\n",
    "\n",
    "# тест односторонний: p-value будет в два раза меньше\n",
    "print('p-значение:', results_2.pvalue)\n",
    "\n",
    "# отвергаем гипотезу только тогда, когда выборочное среднее значимо меньше предполагаемого значения\n",
    "if (results_2.pvalue < alpha):\n",
    "    print(\"Принимаем альтернативную гипотезу\")\n",
    "else:\n",
    "    print(\"Не отвергаем нулевую гипотезу\") "
   ]
  },
  {
   "cell_type": "markdown",
   "id": "76c3f7b8",
   "metadata": {},
   "source": [
    "### Cредняя выручка пользователей из Москвы отличается от выручки пользователей из других регионов."
   ]
  },
  {
   "cell_type": "markdown",
   "id": "2823d514",
   "metadata": {},
   "source": [
    "**H0** - средняя выручка пользователей из Москвы и из других регионов **равны**, т.е. средние значения равны.\n",
    "\n",
    "**H1** - средняя выручка пользователей из Москвы и из других регионов **отличаются**, т.е. средние значения не равны."
   ]
  },
  {
   "cell_type": "code",
   "execution_count": null,
   "id": "d06ab0c4",
   "metadata": {},
   "outputs": [],
   "source": [
    "# проведем статистический тест\n",
    "sample_1 = data[data['city'] == 'Москва']['monthly_profits'] \n",
    "sample_2 = data[data['city'] != 'Москва']['monthly_profits'] \n",
    "results = st.ttest_ind( sample_1, sample_2)\n",
    "alpha = 0.05\n",
    "\n",
    "print('p-значение: ', results.pvalue)\n",
    "if results.pvalue < alpha:\n",
    "    print('Принимаем альтернативную гипотезу')\n",
    "else:\n",
    "    print('Опровергнуть нулевую гипотезу нельзя')"
   ]
  },
  {
   "cell_type": "code",
   "execution_count": null,
   "id": "94849900",
   "metadata": {},
   "outputs": [],
   "source": [
    "moscow = data.query('city == \"Москва\"')\n",
    "moscow['monthly_profits'].mean()"
   ]
  },
  {
   "cell_type": "code",
   "execution_count": null,
   "id": "40b526a4",
   "metadata": {
    "scrolled": true
   },
   "outputs": [],
   "source": [
    "others = data.query('city != \"Москва\"')\n",
    "others['monthly_profits'].mean()"
   ]
  },
  {
   "cell_type": "markdown",
   "id": "da8bbce1",
   "metadata": {},
   "source": [
    "**Вывод**: p-значение выше порогового, что не дает нам оснований отбросить нулевую гипотезу, т.е. **средняя выручка пользователей из Москвы и других городов примерно равна**. "
   ]
  },
  {
   "cell_type": "markdown",
   "id": "a00a82e4",
   "metadata": {},
   "source": [
    "## Общий вывод"
   ]
  },
  {
   "cell_type": "markdown",
   "id": "76e9af38",
   "metadata": {},
   "source": [
    "1. **Общие положения, независимо от тарифа**\n",
    "\n",
    "- Средняя продолжительность звонков составляет 7-8 минут, но чаще всего люди разговаривают по 6 минут. \n",
    "- В среднем клиенты отправляют около 45 сообщений в месяц, наиболее частое значение - 38. Наибольшее число клиентов не так активно пользуется сообщениями, основная масса значений лежит в пределаж 30-40 сообщений в месяц.\n",
    "- В среднем клиенты сотового оператора платят в месяц около 1500 тысяч рублей. По распределению видно, что пики находятся в районах помесячной платы каждого тарифа (550 рублей и 1950 рублей), что говорит о том, что чаще всего клиенты не платят сверх этой стоимости. "
   ]
  },
  {
   "cell_type": "markdown",
   "id": "356b0c15",
   "metadata": {},
   "source": [
    "2. **Клиенты тарифа Смарт:**\n",
    "- в среднем разговаривают около 400 минут в месяц (500 включено)\n",
    "- отправляют около 30 сообщений (50 включено)\n",
    "- используют 16 тысяч МБ интернета (15360 МБ включено)\n",
    "- чаще, чем пользователи тарифа Ультра, не укладываются в основные лимиты и платят сверх абонентской платы\n",
    "- платят в месяц около 1300 рублей"
   ]
  },
  {
   "cell_type": "markdown",
   "id": "c1b4a092",
   "metadata": {},
   "source": [
    "3. **Клиенты тарифа Ультра:**\n",
    "- в среднем разговаривают более 500 минут в месяц (3000 включено)\n",
    "- отправляют около 50 сообщений (1000 включено)\n",
    "- используют 19 тысяч МБ интернета (30720 МБ включено)\n",
    "- всегда укладываются в лимиты по звонкам и сообщениям, иногда доплачивают за интернет сверх трафика\n",
    "- в среднем платят в месяц 2100 рублей"
   ]
  },
  {
   "cell_type": "markdown",
   "id": "3f4f19eb",
   "metadata": {},
   "source": [
    "4. Средняя выручка пользователей тарифов Смарт и Ультра отличается: **средняя выручка пользователей тарифа Ультра выше**\n",
    "5. Средняя выручка пользователей из Москвы и других регионов примерно равна."
   ]
  }
 ],
 "metadata": {
  "ExecuteTimeLog": [
   {
    "duration": 1793,
    "start_time": "2022-04-15T18:51:35.490Z"
   },
   {
    "duration": 225,
    "start_time": "2022-04-15T18:51:44.954Z"
   },
   {
    "duration": 43,
    "start_time": "2022-04-15T18:51:56.352Z"
   },
   {
    "duration": 34,
    "start_time": "2022-04-15T18:51:59.011Z"
   },
   {
    "duration": 33,
    "start_time": "2022-04-15T18:52:00.261Z"
   },
   {
    "duration": 185,
    "start_time": "2022-04-15T18:52:04.655Z"
   },
   {
    "duration": 30,
    "start_time": "2022-04-15T18:52:12.299Z"
   },
   {
    "duration": 118,
    "start_time": "2022-04-15T18:52:16.793Z"
   },
   {
    "duration": 25,
    "start_time": "2022-04-15T18:52:17.858Z"
   },
   {
    "duration": 20,
    "start_time": "2022-04-15T18:52:18.974Z"
   },
   {
    "duration": 28,
    "start_time": "2022-04-15T18:52:20.306Z"
   },
   {
    "duration": 15,
    "start_time": "2022-04-15T18:52:23.113Z"
   },
   {
    "duration": 108,
    "start_time": "2022-04-15T19:07:09.102Z"
   },
   {
    "duration": 145,
    "start_time": "2022-04-15T19:07:10.803Z"
   },
   {
    "duration": 1525,
    "start_time": "2022-04-15T19:07:17.591Z"
   },
   {
    "duration": 217,
    "start_time": "2022-04-15T19:07:19.119Z"
   },
   {
    "duration": 47,
    "start_time": "2022-04-15T19:07:19.338Z"
   },
   {
    "duration": 181,
    "start_time": "2022-04-15T19:07:19.388Z"
   },
   {
    "duration": 36,
    "start_time": "2022-04-15T19:07:19.572Z"
   },
   {
    "duration": 125,
    "start_time": "2022-04-15T19:07:19.610Z"
   },
   {
    "duration": 27,
    "start_time": "2022-04-15T19:07:19.737Z"
   },
   {
    "duration": 28,
    "start_time": "2022-04-15T19:07:19.766Z"
   },
   {
    "duration": 27,
    "start_time": "2022-04-15T19:07:19.796Z"
   },
   {
    "duration": 16,
    "start_time": "2022-04-15T19:07:19.827Z"
   },
   {
    "duration": 141,
    "start_time": "2022-04-15T19:07:19.845Z"
   },
   {
    "duration": 146,
    "start_time": "2022-04-15T19:07:19.988Z"
   },
   {
    "duration": 13,
    "start_time": "2022-04-15T19:07:20.136Z"
   },
   {
    "duration": 6,
    "start_time": "2022-04-15T19:07:20.152Z"
   },
   {
    "duration": 647,
    "start_time": "2022-04-15T19:07:20.160Z"
   },
   {
    "duration": 72,
    "start_time": "2022-04-15T19:07:20.809Z"
   },
   {
    "duration": 65,
    "start_time": "2022-04-15T19:07:20.884Z"
   },
   {
    "duration": 13,
    "start_time": "2022-04-15T19:07:20.951Z"
   },
   {
    "duration": 527,
    "start_time": "2022-04-15T19:07:20.982Z"
   },
   {
    "duration": 87,
    "start_time": "2022-04-15T19:07:21.512Z"
   },
   {
    "duration": 109,
    "start_time": "2022-04-15T19:07:21.601Z"
   },
   {
    "duration": 15,
    "start_time": "2022-04-15T19:07:21.712Z"
   },
   {
    "duration": 73,
    "start_time": "2022-04-15T19:07:21.728Z"
   },
   {
    "duration": 36,
    "start_time": "2022-04-15T19:07:21.803Z"
   },
   {
    "duration": 59,
    "start_time": "2022-04-15T19:07:21.841Z"
   },
   {
    "duration": 11,
    "start_time": "2022-04-15T19:07:21.902Z"
   },
   {
    "duration": 15,
    "start_time": "2022-04-15T19:07:21.914Z"
   },
   {
    "duration": 11,
    "start_time": "2022-04-15T19:07:21.935Z"
   },
   {
    "duration": 57,
    "start_time": "2022-04-15T19:07:21.948Z"
   },
   {
    "duration": 34,
    "start_time": "2022-04-15T19:07:22.007Z"
   },
   {
    "duration": 43,
    "start_time": "2022-04-15T19:07:22.043Z"
   },
   {
    "duration": 9,
    "start_time": "2022-04-15T19:07:22.088Z"
   },
   {
    "duration": 20,
    "start_time": "2022-04-15T19:07:22.099Z"
   },
   {
    "duration": 13,
    "start_time": "2022-04-15T19:07:22.121Z"
   },
   {
    "duration": 65,
    "start_time": "2022-04-15T19:07:22.137Z"
   },
   {
    "duration": 6,
    "start_time": "2022-04-15T19:07:22.204Z"
   },
   {
    "duration": 345,
    "start_time": "2022-04-15T19:07:22.212Z"
   },
   {
    "duration": 24,
    "start_time": "2022-04-15T19:07:22.559Z"
   },
   {
    "duration": 294,
    "start_time": "2022-04-15T19:07:22.585Z"
   },
   {
    "duration": 10,
    "start_time": "2022-04-15T19:07:22.881Z"
   },
   {
    "duration": 392,
    "start_time": "2022-04-15T19:07:22.893Z"
   },
   {
    "duration": 366,
    "start_time": "2022-04-15T19:07:23.287Z"
   },
   {
    "duration": 371,
    "start_time": "2022-04-15T19:07:23.655Z"
   },
   {
    "duration": 830,
    "start_time": "2022-04-15T19:07:24.029Z"
   },
   {
    "duration": 726,
    "start_time": "2022-04-15T19:07:24.861Z"
   },
   {
    "duration": 676,
    "start_time": "2022-04-15T19:07:25.590Z"
   },
   {
    "duration": 698,
    "start_time": "2022-04-15T19:07:26.269Z"
   },
   {
    "duration": 18,
    "start_time": "2022-04-15T19:07:26.970Z"
   },
   {
    "duration": 10,
    "start_time": "2022-04-15T19:07:26.990Z"
   },
   {
    "duration": 12,
    "start_time": "2022-04-15T19:07:27.002Z"
   },
   {
    "duration": 10,
    "start_time": "2022-04-15T19:07:27.015Z"
   },
   {
    "duration": 11,
    "start_time": "2022-04-15T19:07:27.027Z"
   },
   {
    "duration": 17,
    "start_time": "2022-04-15T19:16:12.697Z"
   },
   {
    "duration": 5,
    "start_time": "2022-04-15T19:27:12.123Z"
   },
   {
    "duration": 12,
    "start_time": "2022-04-15T19:27:22.897Z"
   },
   {
    "duration": 8,
    "start_time": "2022-04-15T19:27:36.012Z"
   },
   {
    "duration": 8,
    "start_time": "2022-04-15T19:27:42.334Z"
   },
   {
    "duration": 7,
    "start_time": "2022-04-15T19:28:00.210Z"
   },
   {
    "duration": 201,
    "start_time": "2022-04-15T19:37:21.175Z"
   },
   {
    "duration": 200,
    "start_time": "2022-04-15T19:38:00.622Z"
   },
   {
    "duration": 11,
    "start_time": "2022-04-15T19:45:40.142Z"
   },
   {
    "duration": 58,
    "start_time": "2022-04-15T19:45:43.864Z"
   },
   {
    "duration": 12,
    "start_time": "2022-04-15T19:45:45.035Z"
   },
   {
    "duration": 729,
    "start_time": "2022-04-15T19:48:03.489Z"
   },
   {
    "duration": 38,
    "start_time": "2022-04-15T19:48:38.099Z"
   },
   {
    "duration": 13,
    "start_time": "2022-04-15T19:54:51.643Z"
   },
   {
    "duration": 33,
    "start_time": "2022-04-15T19:54:52.491Z"
   },
   {
    "duration": 34,
    "start_time": "2022-04-15T19:55:05.531Z"
   },
   {
    "duration": 24,
    "start_time": "2022-04-15T19:55:06.305Z"
   },
   {
    "duration": 7,
    "start_time": "2022-04-15T19:57:43.000Z"
   },
   {
    "duration": 21,
    "start_time": "2022-04-15T19:57:44.387Z"
   },
   {
    "duration": 8,
    "start_time": "2022-04-15T19:59:12.316Z"
   },
   {
    "duration": 112,
    "start_time": "2022-04-15T19:59:18.812Z"
   },
   {
    "duration": 105,
    "start_time": "2022-04-15T19:59:24.779Z"
   },
   {
    "duration": 14,
    "start_time": "2022-04-15T20:00:21.179Z"
   },
   {
    "duration": 27,
    "start_time": "2022-04-15T20:00:22.798Z"
   },
   {
    "duration": 12,
    "start_time": "2022-04-15T20:14:00.855Z"
   },
   {
    "duration": 11,
    "start_time": "2022-04-15T20:14:08.270Z"
   },
   {
    "duration": 19,
    "start_time": "2022-04-15T20:14:11.152Z"
   },
   {
    "duration": 9,
    "start_time": "2022-04-15T20:14:28.020Z"
   },
   {
    "duration": 10,
    "start_time": "2022-04-15T20:14:37.562Z"
   },
   {
    "duration": 7,
    "start_time": "2022-04-15T20:28:28.385Z"
   },
   {
    "duration": 1896,
    "start_time": "2022-04-16T07:37:51.502Z"
   },
   {
    "duration": 292,
    "start_time": "2022-04-16T07:37:53.400Z"
   },
   {
    "duration": 36,
    "start_time": "2022-04-16T07:37:53.694Z"
   },
   {
    "duration": 213,
    "start_time": "2022-04-16T07:37:53.734Z"
   },
   {
    "duration": 42,
    "start_time": "2022-04-16T07:37:53.949Z"
   },
   {
    "duration": 126,
    "start_time": "2022-04-16T07:37:53.994Z"
   },
   {
    "duration": 38,
    "start_time": "2022-04-16T07:37:54.123Z"
   },
   {
    "duration": 29,
    "start_time": "2022-04-16T07:37:54.163Z"
   },
   {
    "duration": 28,
    "start_time": "2022-04-16T07:37:54.194Z"
   },
   {
    "duration": 15,
    "start_time": "2022-04-16T07:37:54.226Z"
   },
   {
    "duration": 143,
    "start_time": "2022-04-16T07:37:54.244Z"
   },
   {
    "duration": 156,
    "start_time": "2022-04-16T07:37:54.389Z"
   },
   {
    "duration": 14,
    "start_time": "2022-04-16T07:37:54.548Z"
   },
   {
    "duration": 7,
    "start_time": "2022-04-16T07:37:54.581Z"
   },
   {
    "duration": 584,
    "start_time": "2022-04-16T07:37:54.591Z"
   },
   {
    "duration": 67,
    "start_time": "2022-04-16T07:37:55.178Z"
   },
   {
    "duration": 86,
    "start_time": "2022-04-16T07:37:55.248Z"
   },
   {
    "duration": 15,
    "start_time": "2022-04-16T07:37:55.337Z"
   },
   {
    "duration": 499,
    "start_time": "2022-04-16T07:37:55.354Z"
   },
   {
    "duration": 82,
    "start_time": "2022-04-16T07:37:55.855Z"
   },
   {
    "duration": 85,
    "start_time": "2022-04-16T07:37:55.940Z"
   },
   {
    "duration": 13,
    "start_time": "2022-04-16T07:37:56.027Z"
   },
   {
    "duration": 74,
    "start_time": "2022-04-16T07:37:56.042Z"
   },
   {
    "duration": 36,
    "start_time": "2022-04-16T07:37:56.118Z"
   },
   {
    "duration": 68,
    "start_time": "2022-04-16T07:37:56.156Z"
   },
   {
    "duration": 9,
    "start_time": "2022-04-16T07:37:56.226Z"
   },
   {
    "duration": 10,
    "start_time": "2022-04-16T07:37:56.238Z"
   },
   {
    "duration": 36,
    "start_time": "2022-04-16T07:37:56.254Z"
   },
   {
    "duration": 31,
    "start_time": "2022-04-16T07:37:56.292Z"
   },
   {
    "duration": 58,
    "start_time": "2022-04-16T07:37:56.325Z"
   },
   {
    "duration": 18,
    "start_time": "2022-04-16T07:37:56.385Z"
   },
   {
    "duration": 8,
    "start_time": "2022-04-16T07:37:56.405Z"
   },
   {
    "duration": 19,
    "start_time": "2022-04-16T07:37:56.415Z"
   },
   {
    "duration": 12,
    "start_time": "2022-04-16T07:37:56.436Z"
   },
   {
    "duration": 24,
    "start_time": "2022-04-16T07:37:56.483Z"
   },
   {
    "duration": 5,
    "start_time": "2022-04-16T07:37:56.510Z"
   },
   {
    "duration": 350,
    "start_time": "2022-04-16T07:37:56.517Z"
   },
   {
    "duration": 17,
    "start_time": "2022-04-16T07:37:56.869Z"
   },
   {
    "duration": 280,
    "start_time": "2022-04-16T07:37:56.888Z"
   },
   {
    "duration": 18,
    "start_time": "2022-04-16T07:37:57.170Z"
   },
   {
    "duration": 11,
    "start_time": "2022-04-16T07:37:57.190Z"
   },
   {
    "duration": 398,
    "start_time": "2022-04-16T07:37:57.203Z"
   },
   {
    "duration": 681,
    "start_time": "2022-04-16T07:37:57.603Z"
   },
   {
    "duration": 698,
    "start_time": "2022-04-16T07:37:58.286Z"
   },
   {
    "duration": 1429,
    "start_time": "2022-04-16T07:37:58.986Z"
   },
   {
    "duration": 764,
    "start_time": "2022-04-16T07:38:00.417Z"
   },
   {
    "duration": 699,
    "start_time": "2022-04-16T07:38:01.184Z"
   },
   {
    "duration": 711,
    "start_time": "2022-04-16T07:38:01.886Z"
   },
   {
    "duration": 11,
    "start_time": "2022-04-16T07:38:02.599Z"
   },
   {
    "duration": 8,
    "start_time": "2022-04-16T07:38:02.612Z"
   },
   {
    "duration": 13,
    "start_time": "2022-04-16T07:38:02.622Z"
   },
   {
    "duration": 9,
    "start_time": "2022-04-16T07:38:02.637Z"
   },
   {
    "duration": 10,
    "start_time": "2022-04-16T07:38:02.683Z"
   },
   {
    "duration": 502,
    "start_time": "2022-04-16T07:41:10.458Z"
   },
   {
    "duration": 35,
    "start_time": "2022-04-16T07:43:51.671Z"
   },
   {
    "duration": 46,
    "start_time": "2022-04-16T18:15:33.951Z"
   },
   {
    "duration": 1261,
    "start_time": "2022-04-16T18:15:38.187Z"
   },
   {
    "duration": 150,
    "start_time": "2022-04-16T18:15:39.450Z"
   },
   {
    "duration": 26,
    "start_time": "2022-04-16T18:15:39.602Z"
   },
   {
    "duration": 147,
    "start_time": "2022-04-16T18:15:39.631Z"
   },
   {
    "duration": 21,
    "start_time": "2022-04-16T18:15:39.780Z"
   },
   {
    "duration": 93,
    "start_time": "2022-04-16T18:15:39.802Z"
   },
   {
    "duration": 16,
    "start_time": "2022-04-16T18:15:39.897Z"
   },
   {
    "duration": 15,
    "start_time": "2022-04-16T18:15:39.915Z"
   },
   {
    "duration": 25,
    "start_time": "2022-04-16T18:15:39.931Z"
   },
   {
    "duration": 9,
    "start_time": "2022-04-16T18:15:39.959Z"
   },
   {
    "duration": 84,
    "start_time": "2022-04-16T18:15:39.970Z"
   },
   {
    "duration": 106,
    "start_time": "2022-04-16T18:15:40.055Z"
   },
   {
    "duration": 9,
    "start_time": "2022-04-16T18:15:40.163Z"
   },
   {
    "duration": 5,
    "start_time": "2022-04-16T18:15:40.174Z"
   },
   {
    "duration": 425,
    "start_time": "2022-04-16T18:15:40.180Z"
   },
   {
    "duration": 46,
    "start_time": "2022-04-16T18:15:40.607Z"
   },
   {
    "duration": 47,
    "start_time": "2022-04-16T18:15:40.655Z"
   },
   {
    "duration": 8,
    "start_time": "2022-04-16T18:15:40.704Z"
   },
   {
    "duration": 322,
    "start_time": "2022-04-16T18:15:40.713Z"
   },
   {
    "duration": 57,
    "start_time": "2022-04-16T18:15:41.037Z"
   },
   {
    "duration": 59,
    "start_time": "2022-04-16T18:15:41.096Z"
   },
   {
    "duration": 10,
    "start_time": "2022-04-16T18:15:41.157Z"
   },
   {
    "duration": 356,
    "start_time": "2022-04-16T18:15:41.169Z"
   },
   {
    "duration": 38,
    "start_time": "2022-04-16T18:15:41.527Z"
   },
   {
    "duration": 2,
    "start_time": "2022-04-16T18:15:41.567Z"
   },
   {
    "duration": 29,
    "start_time": "2022-04-16T18:15:41.571Z"
   },
   {
    "duration": 46,
    "start_time": "2022-04-16T18:15:41.602Z"
   },
   {
    "duration": 6,
    "start_time": "2022-04-16T18:15:41.652Z"
   },
   {
    "duration": 8,
    "start_time": "2022-04-16T18:15:41.659Z"
   },
   {
    "duration": 9,
    "start_time": "2022-04-16T18:15:41.669Z"
   },
   {
    "duration": 20,
    "start_time": "2022-04-16T18:15:41.679Z"
   },
   {
    "duration": 53,
    "start_time": "2022-04-16T18:15:41.701Z"
   },
   {
    "duration": 11,
    "start_time": "2022-04-16T18:15:41.756Z"
   },
   {
    "duration": 5,
    "start_time": "2022-04-16T18:15:41.769Z"
   },
   {
    "duration": 1273,
    "start_time": "2022-04-16T18:15:41.775Z"
   },
   {
    "duration": 0,
    "start_time": "2022-04-16T18:15:43.049Z"
   },
   {
    "duration": 0,
    "start_time": "2022-04-16T18:15:43.051Z"
   },
   {
    "duration": 0,
    "start_time": "2022-04-16T18:15:43.051Z"
   },
   {
    "duration": 0,
    "start_time": "2022-04-16T18:15:43.052Z"
   },
   {
    "duration": 0,
    "start_time": "2022-04-16T18:15:43.053Z"
   },
   {
    "duration": 0,
    "start_time": "2022-04-16T18:15:43.054Z"
   },
   {
    "duration": 0,
    "start_time": "2022-04-16T18:15:43.055Z"
   },
   {
    "duration": 0,
    "start_time": "2022-04-16T18:15:43.056Z"
   },
   {
    "duration": 0,
    "start_time": "2022-04-16T18:15:43.057Z"
   },
   {
    "duration": 0,
    "start_time": "2022-04-16T18:15:43.058Z"
   },
   {
    "duration": 0,
    "start_time": "2022-04-16T18:15:43.059Z"
   },
   {
    "duration": 0,
    "start_time": "2022-04-16T18:15:43.060Z"
   },
   {
    "duration": 0,
    "start_time": "2022-04-16T18:15:43.061Z"
   },
   {
    "duration": 0,
    "start_time": "2022-04-16T18:15:43.062Z"
   },
   {
    "duration": 0,
    "start_time": "2022-04-16T18:15:43.062Z"
   },
   {
    "duration": 0,
    "start_time": "2022-04-16T18:15:43.063Z"
   },
   {
    "duration": 0,
    "start_time": "2022-04-16T18:15:43.064Z"
   },
   {
    "duration": 0,
    "start_time": "2022-04-16T18:15:43.065Z"
   },
   {
    "duration": 0,
    "start_time": "2022-04-16T18:15:43.066Z"
   },
   {
    "duration": 0,
    "start_time": "2022-04-16T18:15:43.067Z"
   },
   {
    "duration": 0,
    "start_time": "2022-04-16T18:15:43.068Z"
   },
   {
    "duration": 9,
    "start_time": "2022-04-16T18:16:00.256Z"
   },
   {
    "duration": 5,
    "start_time": "2022-04-16T18:16:08.298Z"
   },
   {
    "duration": 149,
    "start_time": "2022-04-16T18:16:08.305Z"
   },
   {
    "duration": 24,
    "start_time": "2022-04-16T18:16:08.455Z"
   },
   {
    "duration": 150,
    "start_time": "2022-04-16T18:16:08.481Z"
   },
   {
    "duration": 32,
    "start_time": "2022-04-16T18:16:08.633Z"
   },
   {
    "duration": 96,
    "start_time": "2022-04-16T18:16:08.667Z"
   },
   {
    "duration": 18,
    "start_time": "2022-04-16T18:16:08.764Z"
   },
   {
    "duration": 17,
    "start_time": "2022-04-16T18:16:08.783Z"
   },
   {
    "duration": 26,
    "start_time": "2022-04-16T18:16:08.801Z"
   },
   {
    "duration": 9,
    "start_time": "2022-04-16T18:16:08.829Z"
   },
   {
    "duration": 71,
    "start_time": "2022-04-16T18:16:08.840Z"
   },
   {
    "duration": 109,
    "start_time": "2022-04-16T18:16:08.912Z"
   },
   {
    "duration": 9,
    "start_time": "2022-04-16T18:16:09.022Z"
   },
   {
    "duration": 4,
    "start_time": "2022-04-16T18:16:09.047Z"
   },
   {
    "duration": 304,
    "start_time": "2022-04-16T18:16:09.053Z"
   },
   {
    "duration": 41,
    "start_time": "2022-04-16T18:16:09.359Z"
   },
   {
    "duration": 62,
    "start_time": "2022-04-16T18:16:09.402Z"
   },
   {
    "duration": 8,
    "start_time": "2022-04-16T18:16:09.466Z"
   },
   {
    "duration": 293,
    "start_time": "2022-04-16T18:16:09.476Z"
   },
   {
    "duration": 48,
    "start_time": "2022-04-16T18:16:09.771Z"
   },
   {
    "duration": 59,
    "start_time": "2022-04-16T18:16:09.821Z"
   },
   {
    "duration": 9,
    "start_time": "2022-04-16T18:16:09.881Z"
   },
   {
    "duration": 335,
    "start_time": "2022-04-16T18:16:09.892Z"
   },
   {
    "duration": 38,
    "start_time": "2022-04-16T18:16:10.228Z"
   },
   {
    "duration": 3,
    "start_time": "2022-04-16T18:16:10.268Z"
   },
   {
    "duration": 28,
    "start_time": "2022-04-16T18:16:10.273Z"
   },
   {
    "duration": 46,
    "start_time": "2022-04-16T18:16:10.302Z"
   },
   {
    "duration": 5,
    "start_time": "2022-04-16T18:16:10.350Z"
   },
   {
    "duration": 9,
    "start_time": "2022-04-16T18:16:10.356Z"
   },
   {
    "duration": 8,
    "start_time": "2022-04-16T18:16:10.367Z"
   },
   {
    "duration": 20,
    "start_time": "2022-04-16T18:16:10.377Z"
   },
   {
    "duration": 50,
    "start_time": "2022-04-16T18:16:10.399Z"
   },
   {
    "duration": 12,
    "start_time": "2022-04-16T18:16:10.450Z"
   },
   {
    "duration": 11,
    "start_time": "2022-04-16T18:16:10.463Z"
   },
   {
    "duration": 1419,
    "start_time": "2022-04-16T18:16:10.475Z"
   },
   {
    "duration": 0,
    "start_time": "2022-04-16T18:16:11.895Z"
   },
   {
    "duration": 0,
    "start_time": "2022-04-16T18:16:11.897Z"
   },
   {
    "duration": 0,
    "start_time": "2022-04-16T18:16:11.898Z"
   },
   {
    "duration": 0,
    "start_time": "2022-04-16T18:16:11.899Z"
   },
   {
    "duration": 0,
    "start_time": "2022-04-16T18:16:11.900Z"
   },
   {
    "duration": 0,
    "start_time": "2022-04-16T18:16:11.901Z"
   },
   {
    "duration": 0,
    "start_time": "2022-04-16T18:16:11.902Z"
   },
   {
    "duration": 0,
    "start_time": "2022-04-16T18:16:11.903Z"
   },
   {
    "duration": 0,
    "start_time": "2022-04-16T18:16:11.904Z"
   },
   {
    "duration": 0,
    "start_time": "2022-04-16T18:16:11.905Z"
   },
   {
    "duration": 0,
    "start_time": "2022-04-16T18:16:11.906Z"
   },
   {
    "duration": 0,
    "start_time": "2022-04-16T18:16:11.907Z"
   },
   {
    "duration": 0,
    "start_time": "2022-04-16T18:16:11.908Z"
   },
   {
    "duration": 0,
    "start_time": "2022-04-16T18:16:11.909Z"
   },
   {
    "duration": 0,
    "start_time": "2022-04-16T18:16:11.910Z"
   },
   {
    "duration": 0,
    "start_time": "2022-04-16T18:16:11.911Z"
   },
   {
    "duration": 0,
    "start_time": "2022-04-16T18:16:11.912Z"
   },
   {
    "duration": 0,
    "start_time": "2022-04-16T18:16:11.913Z"
   },
   {
    "duration": 0,
    "start_time": "2022-04-16T18:16:11.914Z"
   },
   {
    "duration": 0,
    "start_time": "2022-04-16T18:16:11.915Z"
   },
   {
    "duration": 0,
    "start_time": "2022-04-16T18:16:11.916Z"
   },
   {
    "duration": 4,
    "start_time": "2022-04-16T18:16:55.698Z"
   },
   {
    "duration": 156,
    "start_time": "2022-04-16T18:16:55.705Z"
   },
   {
    "duration": 25,
    "start_time": "2022-04-16T18:16:55.863Z"
   },
   {
    "duration": 150,
    "start_time": "2022-04-16T18:16:55.890Z"
   },
   {
    "duration": 23,
    "start_time": "2022-04-16T18:16:56.047Z"
   },
   {
    "duration": 90,
    "start_time": "2022-04-16T18:16:56.072Z"
   },
   {
    "duration": 18,
    "start_time": "2022-04-16T18:16:56.165Z"
   },
   {
    "duration": 17,
    "start_time": "2022-04-16T18:16:56.185Z"
   },
   {
    "duration": 27,
    "start_time": "2022-04-16T18:16:56.204Z"
   },
   {
    "duration": 24,
    "start_time": "2022-04-16T18:16:56.232Z"
   },
   {
    "duration": 67,
    "start_time": "2022-04-16T18:16:56.257Z"
   },
   {
    "duration": 107,
    "start_time": "2022-04-16T18:16:56.325Z"
   },
   {
    "duration": 86,
    "start_time": "2022-04-16T18:16:56.448Z"
   },
   {
    "duration": 13,
    "start_time": "2022-04-16T18:16:56.537Z"
   },
   {
    "duration": 319,
    "start_time": "2022-04-16T18:16:56.551Z"
   },
   {
    "duration": 40,
    "start_time": "2022-04-16T18:16:56.872Z"
   },
   {
    "duration": 65,
    "start_time": "2022-04-16T18:16:56.914Z"
   },
   {
    "duration": 8,
    "start_time": "2022-04-16T18:16:56.980Z"
   },
   {
    "duration": 360,
    "start_time": "2022-04-16T18:16:56.989Z"
   },
   {
    "duration": 46,
    "start_time": "2022-04-16T18:16:57.351Z"
   },
   {
    "duration": 63,
    "start_time": "2022-04-16T18:16:57.399Z"
   },
   {
    "duration": 9,
    "start_time": "2022-04-16T18:16:57.463Z"
   },
   {
    "duration": 370,
    "start_time": "2022-04-16T18:16:57.473Z"
   },
   {
    "duration": 77,
    "start_time": "2022-04-16T18:16:57.847Z"
   },
   {
    "duration": 0,
    "start_time": "2022-04-16T18:16:57.926Z"
   },
   {
    "duration": 0,
    "start_time": "2022-04-16T18:16:57.927Z"
   },
   {
    "duration": 0,
    "start_time": "2022-04-16T18:16:57.928Z"
   },
   {
    "duration": 0,
    "start_time": "2022-04-16T18:16:57.929Z"
   },
   {
    "duration": 1,
    "start_time": "2022-04-16T18:16:57.930Z"
   },
   {
    "duration": 0,
    "start_time": "2022-04-16T18:16:57.931Z"
   },
   {
    "duration": 0,
    "start_time": "2022-04-16T18:16:57.932Z"
   },
   {
    "duration": 0,
    "start_time": "2022-04-16T18:16:57.933Z"
   },
   {
    "duration": 0,
    "start_time": "2022-04-16T18:16:57.934Z"
   },
   {
    "duration": 0,
    "start_time": "2022-04-16T18:16:57.935Z"
   },
   {
    "duration": 0,
    "start_time": "2022-04-16T18:16:57.936Z"
   },
   {
    "duration": 0,
    "start_time": "2022-04-16T18:16:57.937Z"
   },
   {
    "duration": 0,
    "start_time": "2022-04-16T18:16:57.938Z"
   },
   {
    "duration": 0,
    "start_time": "2022-04-16T18:16:57.939Z"
   },
   {
    "duration": 0,
    "start_time": "2022-04-16T18:16:57.940Z"
   },
   {
    "duration": 0,
    "start_time": "2022-04-16T18:16:57.941Z"
   },
   {
    "duration": 0,
    "start_time": "2022-04-16T18:16:57.942Z"
   },
   {
    "duration": 0,
    "start_time": "2022-04-16T18:16:57.943Z"
   },
   {
    "duration": 0,
    "start_time": "2022-04-16T18:16:57.944Z"
   },
   {
    "duration": 0,
    "start_time": "2022-04-16T18:16:57.945Z"
   },
   {
    "duration": 0,
    "start_time": "2022-04-16T18:16:57.946Z"
   },
   {
    "duration": 0,
    "start_time": "2022-04-16T18:16:57.947Z"
   },
   {
    "duration": 0,
    "start_time": "2022-04-16T18:16:57.948Z"
   },
   {
    "duration": 0,
    "start_time": "2022-04-16T18:16:57.949Z"
   },
   {
    "duration": 0,
    "start_time": "2022-04-16T18:16:57.950Z"
   },
   {
    "duration": 0,
    "start_time": "2022-04-16T18:16:57.950Z"
   },
   {
    "duration": 0,
    "start_time": "2022-04-16T18:16:57.952Z"
   },
   {
    "duration": 0,
    "start_time": "2022-04-16T18:16:57.952Z"
   },
   {
    "duration": 0,
    "start_time": "2022-04-16T18:16:57.954Z"
   },
   {
    "duration": 1,
    "start_time": "2022-04-16T18:16:57.954Z"
   },
   {
    "duration": 0,
    "start_time": "2022-04-16T18:16:57.955Z"
   },
   {
    "duration": 78,
    "start_time": "2022-04-16T18:17:16.112Z"
   },
   {
    "duration": 38,
    "start_time": "2022-04-16T18:17:22.114Z"
   },
   {
    "duration": 27,
    "start_time": "2022-04-16T18:17:26.914Z"
   },
   {
    "duration": 22,
    "start_time": "2022-04-16T18:17:26.942Z"
   },
   {
    "duration": 4,
    "start_time": "2022-04-16T18:17:26.966Z"
   },
   {
    "duration": 8,
    "start_time": "2022-04-16T18:17:26.972Z"
   },
   {
    "duration": 8,
    "start_time": "2022-04-16T18:17:26.982Z"
   },
   {
    "duration": 19,
    "start_time": "2022-04-16T18:17:26.992Z"
   },
   {
    "duration": 48,
    "start_time": "2022-04-16T18:17:27.013Z"
   },
   {
    "duration": 11,
    "start_time": "2022-04-16T18:17:27.063Z"
   },
   {
    "duration": 5,
    "start_time": "2022-04-16T18:17:27.076Z"
   },
   {
    "duration": 19,
    "start_time": "2022-04-16T18:17:27.083Z"
   },
   {
    "duration": 8,
    "start_time": "2022-04-16T18:17:27.104Z"
   },
   {
    "duration": 44,
    "start_time": "2022-04-16T18:17:27.114Z"
   },
   {
    "duration": 3,
    "start_time": "2022-04-16T18:17:27.160Z"
   },
   {
    "duration": 190,
    "start_time": "2022-04-16T18:17:27.165Z"
   },
   {
    "duration": 8,
    "start_time": "2022-04-16T18:17:27.356Z"
   },
   {
    "duration": 161,
    "start_time": "2022-04-16T18:17:27.365Z"
   },
   {
    "duration": 7,
    "start_time": "2022-04-16T18:17:27.527Z"
   },
   {
    "duration": 15,
    "start_time": "2022-04-16T18:17:27.535Z"
   },
   {
    "duration": 195,
    "start_time": "2022-04-16T18:17:27.552Z"
   },
   {
    "duration": 179,
    "start_time": "2022-04-16T18:17:27.749Z"
   },
   {
    "duration": 186,
    "start_time": "2022-04-16T18:17:27.930Z"
   },
   {
    "duration": 447,
    "start_time": "2022-04-16T18:17:28.119Z"
   },
   {
    "duration": 573,
    "start_time": "2022-04-16T18:17:28.568Z"
   },
   {
    "duration": 409,
    "start_time": "2022-04-16T18:17:29.143Z"
   },
   {
    "duration": 419,
    "start_time": "2022-04-16T18:17:29.554Z"
   },
   {
    "duration": 8,
    "start_time": "2022-04-16T18:17:29.974Z"
   },
   {
    "duration": 6,
    "start_time": "2022-04-16T18:17:29.983Z"
   },
   {
    "duration": 19,
    "start_time": "2022-04-16T18:17:29.990Z"
   },
   {
    "duration": 0,
    "start_time": "2022-04-16T18:17:30.012Z"
   },
   {
    "duration": 0,
    "start_time": "2022-04-16T18:17:30.013Z"
   },
   {
    "duration": 0,
    "start_time": "2022-04-16T18:17:30.015Z"
   },
   {
    "duration": 16,
    "start_time": "2022-04-16T18:18:05.188Z"
   },
   {
    "duration": 6,
    "start_time": "2022-04-16T18:18:31.398Z"
   },
   {
    "duration": 5,
    "start_time": "2022-04-16T18:18:56.901Z"
   },
   {
    "duration": 6,
    "start_time": "2022-04-16T18:19:09.183Z"
   },
   {
    "duration": 6,
    "start_time": "2022-04-16T18:20:46.325Z"
   },
   {
    "duration": 1433,
    "start_time": "2022-04-16T20:22:19.627Z"
   },
   {
    "duration": 169,
    "start_time": "2022-04-16T20:22:21.062Z"
   },
   {
    "duration": 27,
    "start_time": "2022-04-16T20:22:21.233Z"
   },
   {
    "duration": 159,
    "start_time": "2022-04-16T20:22:21.262Z"
   },
   {
    "duration": 30,
    "start_time": "2022-04-16T20:22:21.423Z"
   },
   {
    "duration": 95,
    "start_time": "2022-04-16T20:22:21.455Z"
   },
   {
    "duration": 20,
    "start_time": "2022-04-16T20:22:21.552Z"
   },
   {
    "duration": 20,
    "start_time": "2022-04-16T20:22:21.574Z"
   },
   {
    "duration": 41,
    "start_time": "2022-04-16T20:22:21.597Z"
   },
   {
    "duration": 11,
    "start_time": "2022-04-16T20:22:21.642Z"
   },
   {
    "duration": 91,
    "start_time": "2022-04-16T20:22:21.655Z"
   },
   {
    "duration": 123,
    "start_time": "2022-04-16T20:22:21.748Z"
   },
   {
    "duration": 10,
    "start_time": "2022-04-16T20:22:21.873Z"
   },
   {
    "duration": 6,
    "start_time": "2022-04-16T20:22:21.885Z"
   },
   {
    "duration": 435,
    "start_time": "2022-04-16T20:22:21.893Z"
   },
   {
    "duration": 47,
    "start_time": "2022-04-16T20:22:22.333Z"
   },
   {
    "duration": 82,
    "start_time": "2022-04-16T20:22:22.382Z"
   },
   {
    "duration": 9,
    "start_time": "2022-04-16T20:22:22.466Z"
   },
   {
    "duration": 371,
    "start_time": "2022-04-16T20:22:22.478Z"
   },
   {
    "duration": 56,
    "start_time": "2022-04-16T20:22:22.852Z"
   },
   {
    "duration": 67,
    "start_time": "2022-04-16T20:22:22.910Z"
   },
   {
    "duration": 11,
    "start_time": "2022-04-16T20:22:22.979Z"
   },
   {
    "duration": 385,
    "start_time": "2022-04-16T20:22:22.992Z"
   },
   {
    "duration": 59,
    "start_time": "2022-04-16T20:22:23.379Z"
   },
   {
    "duration": 29,
    "start_time": "2022-04-16T20:22:23.440Z"
   },
   {
    "duration": 26,
    "start_time": "2022-04-16T20:22:23.472Z"
   },
   {
    "duration": 34,
    "start_time": "2022-04-16T20:22:23.500Z"
   },
   {
    "duration": 10,
    "start_time": "2022-04-16T20:22:23.538Z"
   },
   {
    "duration": 11,
    "start_time": "2022-04-16T20:22:23.550Z"
   },
   {
    "duration": 24,
    "start_time": "2022-04-16T20:22:23.562Z"
   },
   {
    "duration": 53,
    "start_time": "2022-04-16T20:22:23.589Z"
   },
   {
    "duration": 13,
    "start_time": "2022-04-16T20:22:23.644Z"
   },
   {
    "duration": 5,
    "start_time": "2022-04-16T20:22:23.659Z"
   },
   {
    "duration": 15,
    "start_time": "2022-04-16T20:22:23.666Z"
   },
   {
    "duration": 9,
    "start_time": "2022-04-16T20:22:23.683Z"
   },
   {
    "duration": 54,
    "start_time": "2022-04-16T20:22:23.694Z"
   },
   {
    "duration": 4,
    "start_time": "2022-04-16T20:22:23.751Z"
   },
   {
    "duration": 201,
    "start_time": "2022-04-16T20:22:23.757Z"
   },
   {
    "duration": 9,
    "start_time": "2022-04-16T20:22:23.960Z"
   },
   {
    "duration": 200,
    "start_time": "2022-04-16T20:22:23.971Z"
   },
   {
    "duration": 8,
    "start_time": "2022-04-16T20:22:24.173Z"
   },
   {
    "duration": 7,
    "start_time": "2022-04-16T20:22:24.182Z"
   },
   {
    "duration": 247,
    "start_time": "2022-04-16T20:22:24.191Z"
   },
   {
    "duration": 228,
    "start_time": "2022-04-16T20:22:24.439Z"
   },
   {
    "duration": 232,
    "start_time": "2022-04-16T20:22:24.669Z"
   },
   {
    "duration": 595,
    "start_time": "2022-04-16T20:22:24.903Z"
   },
   {
    "duration": 491,
    "start_time": "2022-04-16T20:22:25.500Z"
   },
   {
    "duration": 504,
    "start_time": "2022-04-16T20:22:25.993Z"
   },
   {
    "duration": 475,
    "start_time": "2022-04-16T20:22:26.499Z"
   },
   {
    "duration": 9,
    "start_time": "2022-04-16T20:22:26.975Z"
   },
   {
    "duration": 9,
    "start_time": "2022-04-16T20:22:26.986Z"
   },
   {
    "duration": 9,
    "start_time": "2022-04-16T20:22:26.997Z"
   },
   {
    "duration": 5,
    "start_time": "2022-04-16T20:22:45.218Z"
   }
  ],
  "kernelspec": {
   "display_name": "Python 3",
   "language": "python",
   "name": "python3"
  },
  "language_info": {
   "codemirror_mode": {
    "name": "ipython",
    "version": 3
   },
   "file_extension": ".py",
   "mimetype": "text/x-python",
   "name": "python",
   "nbconvert_exporter": "python",
   "pygments_lexer": "ipython3",
   "version": "3.8.8"
  },
  "toc": {
   "base_numbering": 1,
   "nav_menu": {},
   "number_sections": true,
   "sideBar": true,
   "skip_h1_title": true,
   "title_cell": "Table of Contents",
   "title_sidebar": "Contents",
   "toc_cell": true,
   "toc_position": {},
   "toc_section_display": true,
   "toc_window_display": true
  }
 },
 "nbformat": 4,
 "nbformat_minor": 5
}
